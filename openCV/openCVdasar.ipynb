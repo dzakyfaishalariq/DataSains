{
 "cells": [
  {
   "cell_type": "markdown",
   "metadata": {},
   "source": [
    "<h1>Latihan Open CV</h1>"
   ]
  },
  {
   "cell_type": "code",
   "execution_count": 4,
   "metadata": {},
   "outputs": [],
   "source": [
    "#ambil library\n",
    "from prettytable import PrettyTable as tabel\n",
    "import matplotlib.pyplot as plt\n",
    "import seaborn as sns\n",
    "import cv2\n",
    "import sys"
   ]
  },
  {
   "cell_type": "code",
   "execution_count": 5,
   "metadata": {},
   "outputs": [
    {
     "name": "stdout",
     "output_type": "stream",
     "text": [
      "citra berwarna\n",
      "(828, 851, 4)\n"
     ]
    }
   ],
   "source": [
    "citra = cv2.imread('img/babon.png',cv2.IMREAD_UNCHANGED)\n",
    "citra2 = cv2.imread('img/babon.png')\n",
    "\n",
    "if citra is None:\n",
    "    print(\"Berkas tidak terbaca\")\n",
    "else:\n",
    "    info = citra.shape\n",
    "    # info di gunakan untuk menentukan isi elemen yang ada di dalam berkas\n",
    "    if len(info) == 2:\n",
    "        #apabila isi elemen nya cuma ada 2 dimensi \n",
    "        print(\"citra bersekala keabuan\")\n",
    "        print(info)\n",
    "    else:\n",
    "        #apabila isi elemen cucu ada 3 dimensi\n",
    "        print('citra berwarna')\n",
    "        print(info)\n"
   ]
  },
  {
   "cell_type": "code",
   "execution_count": 3,
   "metadata": {},
   "outputs": [],
   "source": [
    "# membuat bingkai\n",
    "hasil = citra2.copy()\n",
    "#pengelolahan citra\n",
    "tebal = 20\n",
    "hitam = 225\n",
    "jml_baris = hasil.shape[0]\n",
    "jml_colom = hasil.shape[1]\n",
    "\n",
    "# proses membuat bingkai yang di perlukan \n",
    "# -- bingkai atas\n",
    "for baris in range(tebal):\n",
    "    for kolom in range(jml_colom):\n",
    "        hasil[baris,kolom] =hitam\n",
    "# -- bingkai bawah\n",
    "for baris in range(jml_baris-tebal-1,jml_baris):\n",
    "    for kolom in range(jml_colom):\n",
    "        hasil[baris,kolom] =hitam\n",
    "# -- bingkai kiri\n",
    "for baris in range(tebal,jml_baris-tebal-1):\n",
    "    for kolom in range(tebal):\n",
    "        hasil[baris,kolom] =hitam\n",
    "# -- bingkai kanan\n",
    "for baris in range(tebal,jml_baris-tebal-1):\n",
    "    for kolom in range(jml_colom-tebal-1,jml_colom):\n",
    "        hasil[baris,kolom] =hitam\n",
    "#tampilkan\n",
    "cv2.imshow(\"Gambar asli\",citra2)\n",
    "cv2.imshow(\"Gambar bingkai\",hasil)\n",
    "cv2.waitKey(0)\n",
    "cv2.destroyAllWindows()"
   ]
  },
  {
   "cell_type": "code",
   "execution_count": 15,
   "metadata": {},
   "outputs": [],
   "source": [
    "gambar = cv2.imread(\"img/GambarPemandangan.jpg\")\n",
    "hasil = gambar.copy()\n",
    "\n",
    "# ketebalan bingkai\n",
    "tebal = 10\n",
    "Hitam = [0,200,0]\n",
    "jumlah_baris = hasil.shape[0]\n",
    "jumlah_kolom = hasil.shape[1]\n",
    "\n",
    "for baris in range(tebal):\n",
    "    for kolom in range(jumlah_kolom):\n",
    "        hasil[baris,kolom] = Hitam\n",
    "\n",
    "for baris in range(jumlah_baris-tebal-1,jumlah_baris):\n",
    "    for kolom in range(jumlah_kolom):\n",
    "        hasil[baris,kolom] = Hitam\n",
    "\n",
    "for baris in range(tebal,jumlah_baris-tebal-1):\n",
    "    for kolom in range(tebal):\n",
    "        hasil[baris,kolom] = Hitam\n",
    "\n",
    "for baris in range(tebal,jumlah_baris-tebal-1):\n",
    "    for kolom in range(jumlah_kolom-tebal-1,jumlah_kolom):\n",
    "        hasil[baris,kolom] = Hitam\n",
    "\n",
    "cv2.imshow(\"Gambar Hasli\",hasil)\n",
    "cv2.waitKey(0)\n",
    "cv2.destroyAllWindows()\n"
   ]
  },
  {
   "cell_type": "code",
   "execution_count": 22,
   "metadata": {},
   "outputs": [
    {
     "name": "stdout",
     "output_type": "stream",
     "text": [
      "1\n",
      "5\n",
      "9\n"
     ]
    }
   ],
   "source": [
    "# penggunaan irisan pada cv2\n"
   ]
  }
 ],
 "metadata": {
  "interpreter": {
   "hash": "88a0f748d48c50b547f74cc3e839e259b6b081af8ebf11db7c6ba7745374eae5"
  },
  "kernelspec": {
   "display_name": "Python 3.7.0 64-bit",
   "language": "python",
   "name": "python3"
  },
  "language_info": {
   "codemirror_mode": {
    "name": "ipython",
    "version": 3
   },
   "file_extension": ".py",
   "mimetype": "text/x-python",
   "name": "python",
   "nbconvert_exporter": "python",
   "pygments_lexer": "ipython3",
   "version": "3.7.0"
  },
  "orig_nbformat": 4
 },
 "nbformat": 4,
 "nbformat_minor": 2
}
