{
 "cells": [
  {
   "cell_type": "markdown",
   "metadata": {},
   "source": [
    "<h1>Latihan Open CV</h1>"
   ]
  },
  {
   "cell_type": "code",
   "execution_count": 2,
   "metadata": {},
   "outputs": [],
   "source": [
    "#ambil library\n",
    "from prettytable import PrettyTable as tabel\n",
    "import matplotlib.pyplot as plt\n",
    "import seaborn as sns\n",
    "import cv2\n",
    "import sys"
   ]
  },
  {
   "cell_type": "code",
   "execution_count": 3,
   "metadata": {},
   "outputs": [
    {
     "name": "stdout",
     "output_type": "stream",
     "text": [
      "citra berwarna\n",
      "(828, 851, 4)\n"
     ]
    }
   ],
   "source": [
    "citra = cv2.imread('img/babon.png',cv2.IMREAD_UNCHANGED)\n",
    "citra2 = cv2.imread('img/babon.png')\n",
    "\n",
    "if citra is None:\n",
    "    print(\"Berkas tidak terbaca\")\n",
    "else:\n",
    "    info = citra.shape\n",
    "    # info di gunakan untuk menentukan isi elemen yang ada di dalam berkas\n",
    "    if len(info) == 2:\n",
    "        #apabila isi elemen nya cuma ada 2 dimensi \n",
    "        print(\"citra bersekala keabuan\")\n",
    "        print(info)\n",
    "    else:\n",
    "        #apabila isi elemen cucu ada 3 dimensi\n",
    "        print('citra berwarna')\n",
    "        print(info)\n"
   ]
  },
  {
   "cell_type": "code",
   "execution_count": 4,
   "metadata": {},
   "outputs": [],
   "source": [
    "# membuat bingkai\n",
    "hasil = citra2.copy()\n",
    "#pengelolahan citra\n",
    "tebal = 20\n",
    "hitam = 225\n",
    "jml_baris = hasil.shape[0]\n",
    "jml_colom = hasil.shape[1]\n",
    "\n",
    "# proses membuat bingkai yang di perlukan \n",
    "# -- bingkai atas\n",
    "for baris in range(tebal):\n",
    "    for kolom in range(jml_colom):\n",
    "        hasil[baris,kolom] =hitam\n",
    "# -- bingkai bawah\n",
    "for baris in range(jml_baris-tebal-1,jml_baris):\n",
    "    for kolom in range(jml_colom):\n",
    "        hasil[baris,kolom] =hitam\n",
    "# -- bingkai kiri\n",
    "for baris in range(tebal,jml_baris-tebal-1):\n",
    "    for kolom in range(tebal):\n",
    "        hasil[baris,kolom] =hitam\n",
    "# -- bingkai kanan\n",
    "for baris in range(tebal,jml_baris-tebal-1):\n",
    "    for kolom in range(jml_colom-tebal-1,jml_colom):\n",
    "        hasil[baris,kolom] =hitam\n",
    "#tampilkan\n",
    "cv2.imshow(\"Gambar asli\",citra2)\n",
    "cv2.imshow(\"Gambar bingkai\",hasil)\n",
    "cv2.waitKey(0)\n",
    "cv2.destroyAllWindows()"
   ]
  },
  {
   "cell_type": "markdown",
   "metadata": {},
   "source": [
    "<h4>Catatan sisipan</h4>"
   ]
  },
  {
   "cell_type": "code",
   "execution_count": 18,
   "metadata": {},
   "outputs": [
    {
     "name": "stdout",
     "output_type": "stream",
     "text": [
      "+-------+--------+\n",
      "|  Nama | kelas  |\n",
      "+-------+--------+\n",
      "| Nama0 | kelas0 |\n",
      "| Nama2 | kelas2 |\n",
      "| Nama4 | kelas4 |\n",
      "| Nama6 | kelas6 |\n",
      "| Nama8 | kelas8 |\n",
      "+-------+--------+\n"
     ]
    }
   ],
   "source": [
    "#catatan pribadi:\n",
    "# cotoh pembuatan tabel\n",
    "tbl = tabel([\"Nama\",\"kelas\"])\n",
    "for i in range(0,9,2):\n",
    "    tbl.add_row([\"Nama\"+str(i),\"kelas\"+str(i)])\n",
    "print(tbl)\n",
    "myfile = open('myfile.txt','w')\n",
    "myfile.write(str(tbl))\n",
    "myfile.close()"
   ]
  },
  {
   "cell_type": "code",
   "execution_count": 20,
   "metadata": {},
   "outputs": [
    {
     "name": "stdout",
     "output_type": "stream",
     "text": [
      "+-------+--------+\n",
      "|  Nama | kelas  |\n",
      "+-------+--------+\n",
      "| Nama0 | kelas0 |\n",
      "| Nama2 | kelas2 |\n",
      "| Nama4 | kelas4 |\n",
      "| Nama6 | kelas6 |\n",
      "| Nama8 | kelas8 |\n",
      "+-------+--------+\n"
     ]
    }
   ],
   "source": [
    "myfile2 =open('myfile.txt','r')\n",
    "file = myfile2.read()\n",
    "print(file)\n",
    "myfile2.close()"
   ]
  }
 ],
 "metadata": {
  "interpreter": {
   "hash": "88a0f748d48c50b547f74cc3e839e259b6b081af8ebf11db7c6ba7745374eae5"
  },
  "kernelspec": {
   "display_name": "Python 3.7.0 64-bit",
   "language": "python",
   "name": "python3"
  },
  "language_info": {
   "codemirror_mode": {
    "name": "ipython",
    "version": 3
   },
   "file_extension": ".py",
   "mimetype": "text/x-python",
   "name": "python",
   "nbconvert_exporter": "python",
   "pygments_lexer": "ipython3",
   "version": "3.7.0"
  },
  "orig_nbformat": 4
 },
 "nbformat": 4,
 "nbformat_minor": 2
}
