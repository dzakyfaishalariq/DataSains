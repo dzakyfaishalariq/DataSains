{
 "cells": [
  {
   "cell_type": "code",
   "execution_count": 1,
   "metadata": {},
   "outputs": [],
   "source": [
    "import pandas as pd\n",
    "import numpy as np\n",
    "import matplotlib.pyplot as plt\n",
    "import seaborn as sns"
   ]
  },
  {
   "cell_type": "code",
   "execution_count": 11,
   "metadata": {},
   "outputs": [
    {
     "name": "stdout",
     "output_type": "stream",
     "text": [
      "[[ 1  1  1  6]\n",
      " [ 1  2 -1  2]\n",
      " [ 2  1  2 10]]\n"
     ]
    }
   ],
   "source": [
    "A = np.array([[1,1,1],\n",
    "              [1,2,-1],\n",
    "              [2,1,2]])\n",
    "B = np.array([6,2,10])\n",
    "# menggabungkan matriks A dan B\n",
    "X = np.concatenate((A,B.reshape(3,1)), axis=1)\n",
    "print(X)"
   ]
  },
  {
   "cell_type": "code",
   "execution_count": 16,
   "metadata": {},
   "outputs": [
    {
     "name": "stdout",
     "output_type": "stream",
     "text": [
      "[[ 1  1  1  6]\n",
      " [ 0  2 -1  2]\n",
      " [ 0  0 -2 10]]\n"
     ]
    }
   ],
   "source": [
    "#Algoritma eliminasi Gauss \n",
    "def eliminasi_gauss(X):\n",
    "    n = len(X)\n",
    "    for k in range(n-1):\n",
    "        for i in range(k+1,n):\n",
    "            if X[i,k] != 0:\n",
    "                lamda = X[i,k]/X[k,k]\n",
    "                X[i,k+1:n] = X[i,k+1:n] - lamda*X[k,k+1:n]\n",
    "                X[i,k] = 0\n",
    "    return X\n",
    "hasil = eliminasi_gauss(X)\n",
    "print(hasil)"
   ]
  }
 ],
 "metadata": {
  "interpreter": {
   "hash": "88a0f748d48c50b547f74cc3e839e259b6b081af8ebf11db7c6ba7745374eae5"
  },
  "kernelspec": {
   "display_name": "Python 3.7.0 64-bit",
   "language": "python",
   "name": "python3"
  },
  "language_info": {
   "codemirror_mode": {
    "name": "ipython",
    "version": 3
   },
   "file_extension": ".py",
   "mimetype": "text/x-python",
   "name": "python",
   "nbconvert_exporter": "python",
   "pygments_lexer": "ipython3",
   "version": "3.7.0"
  },
  "orig_nbformat": 4
 },
 "nbformat": 4,
 "nbformat_minor": 2
}
