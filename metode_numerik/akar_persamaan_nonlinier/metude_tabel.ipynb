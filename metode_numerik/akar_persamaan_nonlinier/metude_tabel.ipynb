{
 "cells": [
  {
   "cell_type": "markdown",
   "metadata": {},
   "source": [
    "<h1>> Latihan metode numerik</h1>\n",
    "<p>Pada latihan kali ini membuat area metode tabel yang mana  dapat kita selesaikan dengan cara</p>\n",
    "\n",
    "<ul style=\"color : red; border:1px solid green;\">\n",
    "    <li>Metode tabel</li>\n",
    "    <li>Metode biseksi</li>\n",
    "    <li>Metode Regula falsi</li> \n",
    "</ul>\n",
    "\n",
    "<h4>-> Metode tabel : </h4>"
   ]
  },
  {
   "cell_type": "code",
   "execution_count": 9,
   "metadata": {},
   "outputs": [],
   "source": [
    "# mengimport bahan yang di butuhkan\n",
    "import pandas as pd\n",
    "import numpy as np\n",
    "import matplotlib.pyplot as plt\n",
    "import seaborn as sns\n",
    "sns.set()"
   ]
  },
  {
   "cell_type": "code",
   "execution_count": 24,
   "metadata": {},
   "outputs": [],
   "source": [
    "# fungsi\n",
    "def f(x):\n",
    "    y = x + np.exp(x)\n",
    "    return y\n",
    "# algoritma metode tabel\n",
    "def tentukan_akar(x):\n",
    "    for i in range(len(x)):\n",
    "        if f(x[i])*f(x[i+1]) < 0:\n",
    "            return (x[i]+x[i+1])/2\n"
   ]
  },
  {
   "cell_type": "code",
   "execution_count": 27,
   "metadata": {},
   "outputs": [
    {
     "data": {
      "image/png": "[encoded data removed]",
      "text/plain": [
       "<Figure size 432x288 with 1 Axes>"
      ]
     },
     "metadata": {},
     "output_type": "display_data"
    },
    {
     "name": "stdout",
     "output_type": "stream",
     "text": [
      "Data yang di dapatkan : \n"
     ]
    },
    {
     "data": {
      "text/html": [
       "<div>\n",
       "<style scoped>\n",
       "    .dataframe tbody tr th:only-of-type {\n",
       "        vertical-align: middle;\n",
       "    }\n",
       "\n",
       "    .dataframe tbody tr th {\n",
       "        vertical-align: top;\n",
       "    }\n",
       "\n",
       "    .dataframe thead th {\n",
       "        text-align: right;\n",
       "    }\n",
       "</style>\n",
       "<table border=\"1\" class=\"dataframe\">\n",
       "  <thead>\n",
       "    <tr style=\"text-align: right;\">\n",
       "      <th></th>\n",
       "      <th>x</th>\n",
       "      <th>y</th>\n",
       "    </tr>\n",
       "  </thead>\n",
       "  <tbody>\n",
       "    <tr>\n",
       "      <th>0</th>\n",
       "      <td>-1.000000</td>\n",
       "      <td>-0.632121</td>\n",
       "    </tr>\n",
       "    <tr>\n",
       "      <th>1</th>\n",
       "      <td>-0.888889</td>\n",
       "      <td>-0.477777</td>\n",
       "    </tr>\n",
       "    <tr>\n",
       "      <th>2</th>\n",
       "      <td>-0.777778</td>\n",
       "      <td>-0.318352</td>\n",
       "    </tr>\n",
       "    <tr>\n",
       "      <th>3</th>\n",
       "      <td>-0.666667</td>\n",
       "      <td>-0.153250</td>\n",
       "    </tr>\n",
       "    <tr>\n",
       "      <th>4</th>\n",
       "      <td>-0.555556</td>\n",
       "      <td>0.018198</td>\n",
       "    </tr>\n",
       "    <tr>\n",
       "      <th>5</th>\n",
       "      <td>-0.444444</td>\n",
       "      <td>0.196736</td>\n",
       "    </tr>\n",
       "    <tr>\n",
       "      <th>6</th>\n",
       "      <td>-0.333333</td>\n",
       "      <td>0.383198</td>\n",
       "    </tr>\n",
       "    <tr>\n",
       "      <th>7</th>\n",
       "      <td>-0.222222</td>\n",
       "      <td>0.578515</td>\n",
       "    </tr>\n",
       "    <tr>\n",
       "      <th>8</th>\n",
       "      <td>-0.111111</td>\n",
       "      <td>0.783728</td>\n",
       "    </tr>\n",
       "    <tr>\n",
       "      <th>9</th>\n",
       "      <td>0.000000</td>\n",
       "      <td>1.000000</td>\n",
       "    </tr>\n",
       "  </tbody>\n",
       "</table>\n",
       "</div>"
      ],
      "text/plain": [
       "          x         y\n",
       "0 -1.000000 -0.632121\n",
       "1 -0.888889 -0.477777\n",
       "2 -0.777778 -0.318352\n",
       "3 -0.666667 -0.153250\n",
       "4 -0.555556  0.018198\n",
       "5 -0.444444  0.196736\n",
       "6 -0.333333  0.383198\n",
       "7 -0.222222  0.578515\n",
       "8 -0.111111  0.783728\n",
       "9  0.000000  1.000000"
      ]
     },
     "execution_count": 27,
     "metadata": {},
     "output_type": "execute_result"
    }
   ],
   "source": [
    "# melakukan pembuatan metode tabel\n",
    "# menetukan batasan\n",
    "x = np.linspace(-1, 0, 10)\n",
    "#membuat dataframe\n",
    "datafarmer = pd.DataFrame({'x': x, 'y': f(x)})\n",
    "#membuat grafik\n",
    "fig, ax = plt.subplots()\n",
    "ax.plot(datafarmer['x'], datafarmer['y'], 'r-')\n",
    "#titik akarnya\n",
    "ax.scatter(tentukan_akar(x), f(tentukan_akar(x)), c='b', s=100)\n",
    "ax.grid(True)\n",
    "ax.set_xlabel('x')\n",
    "ax.set_ylabel('y')\n",
    "ax.set_title('Grafik fungsi f(x) = x + e^x')\n",
    "#membuat garis x dan y\n",
    "ax.add_line(plt.Line2D([-1, 0], [0, 0], color='k'))\n",
    "ax.add_line(plt.Line2D([0, 0], [-1, 0], color='k'))\n",
    "ax.add_line(plt.Line2D([0, 0], [0, 1], color='k'))\n",
    "plt.show()\n",
    "print('Data yang di dapatkan : ')\n",
    "datafarmer"
   ]
  },
  {
   "cell_type": "code",
   "execution_count": 41,
   "metadata": {},
   "outputs": [
    {
     "name": "stdout",
     "output_type": "stream",
     "text": [
      "Akar yang akan di dapatkan :\n",
      "Akar :          -0.6111111111111112 \n",
      "dan fungsinya : -0.06836362994688927\n"
     ]
    }
   ],
   "source": [
    "# menentukan akar\n",
    "print('Akar yang akan di dapatkan :')\n",
    "print('Akar : {:>28} \\ndan fungsinya : {}'.format(tentukan_akar(x), f(tentukan_akar(x))))"
   ]
  },
  {
   "cell_type": "markdown",
   "metadata": {},
   "source": [
    "<h4>Metode biseksi: </h4>"
   ]
  },
  {
   "cell_type": "code",
   "execution_count": null,
   "metadata": {},
   "outputs": [],
   "source": []
  }
 ],
 "metadata": {
  "interpreter": {
   "hash": "88a0f748d48c50b547f74cc3e839e259b6b081af8ebf11db7c6ba7745374eae5"
  },
  "kernelspec": {
   "display_name": "Python 3.7.0 64-bit",
   "language": "python",
   "name": "python3"
  },
  "language_info": {
   "codemirror_mode": {
    "name": "ipython",
    "version": 3
   },
   "file_extension": ".py",
   "mimetype": "text/x-python",
   "name": "python",
   "nbconvert_exporter": "python",
   "pygments_lexer": "ipython3",
   "version": "3.7.0"
  },
  "orig_nbformat": 4
 },
 "nbformat": 4,
 "nbformat_minor": 2
}
