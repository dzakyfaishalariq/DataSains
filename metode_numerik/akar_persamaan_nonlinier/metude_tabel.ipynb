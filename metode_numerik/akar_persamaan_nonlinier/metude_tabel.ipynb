{
 "cells": [
  {
   "cell_type": "markdown",
   "metadata": {},
   "source": [
    "<h1>> Latihan metode numerik</h1>\n",
    "<p>Pada latihan kali ini membuat area metode tabel yang mana  dapat kita selesaikan dengan cara</p>\n",
    "\n",
    "<ul style=\"color : red; border:1px solid green;\">\n",
    "    <li>Metode tabel</li>\n",
    "    <li>Metode biseksi</li>\n",
    "    <li>Metode Regula falsi</li> \n",
    "</ul>\n",
    "\n",
    "<hr>\n",
    "<p>Dalam menyelesaikan penyelesaian akar persamaan non linier yang tidak dapat dihitung secara langsung dalam perhitungan exas maka dilakukan metode numerik ini berikut cara caranya, </p>\n",
    "<h4>-> Metode tabel : </h4>"
   ]
  },
  {
   "cell_type": "code",
   "execution_count": 1,
   "metadata": {},
   "outputs": [],
   "source": [
    "# mengimport bahan yang di butuhkan\n",
    "import pandas as pd\n",
    "import numpy as np\n",
    "import matplotlib.pyplot as plt\n",
    "import seaborn as sns\n",
    "sns.set()"
   ]
  },
  {
   "cell_type": "code",
   "execution_count": 2,
   "metadata": {},
   "outputs": [],
   "source": [
    "# fungsi\n",
    "def f(x):\n",
    "    y = x + np.exp(x)\n",
    "    return y\n",
    "# algoritma metode tabel\n",
    "def tentukan_akar(x):\n",
    "    for i in range(len(x)):\n",
    "        if f(x[i])*f(x[i+1]) < 0:\n",
    "            return (x[i]+x[i+1])/2\n"
   ]
  },
  {
   "cell_type": "code",
   "execution_count": 3,
   "metadata": {},
   "outputs": [
    {
     "data": {
      "image/png": "[encoded data removed]",
      "text/plain": [
       "<Figure size 432x288 with 1 Axes>"
      ]
     },
     "metadata": {},
     "output_type": "display_data"
    },
    {
     "name": "stdout",
     "output_type": "stream",
     "text": [
      "Data yang di dapatkan : \n"
     ]
    },
    {
     "data": {
      "text/html": [
       "<div>\n",
       "<style scoped>\n",
       "    .dataframe tbody tr th:only-of-type {\n",
       "        vertical-align: middle;\n",
       "    }\n",
       "\n",
       "    .dataframe tbody tr th {\n",
       "        vertical-align: top;\n",
       "    }\n",
       "\n",
       "    .dataframe thead th {\n",
       "        text-align: right;\n",
       "    }\n",
       "</style>\n",
       "<table border=\"1\" class=\"dataframe\">\n",
       "  <thead>\n",
       "    <tr style=\"text-align: right;\">\n",
       "      <th></th>\n",
       "      <th>x</th>\n",
       "      <th>y</th>\n",
       "    </tr>\n",
       "  </thead>\n",
       "  <tbody>\n",
       "    <tr>\n",
       "      <th>0</th>\n",
       "      <td>-1.000000</td>\n",
       "      <td>-0.632121</td>\n",
       "    </tr>\n",
       "    <tr>\n",
       "      <th>1</th>\n",
       "      <td>-0.888889</td>\n",
       "      <td>-0.477777</td>\n",
       "    </tr>\n",
       "    <tr>\n",
       "      <th>2</th>\n",
       "      <td>-0.777778</td>\n",
       "      <td>-0.318352</td>\n",
       "    </tr>\n",
       "    <tr>\n",
       "      <th>3</th>\n",
       "      <td>-0.666667</td>\n",
       "      <td>-0.153250</td>\n",
       "    </tr>\n",
       "    <tr>\n",
       "      <th>4</th>\n",
       "      <td>-0.555556</td>\n",
       "      <td>0.018198</td>\n",
       "    </tr>\n",
       "    <tr>\n",
       "      <th>5</th>\n",
       "      <td>-0.444444</td>\n",
       "      <td>0.196736</td>\n",
       "    </tr>\n",
       "    <tr>\n",
       "      <th>6</th>\n",
       "      <td>-0.333333</td>\n",
       "      <td>0.383198</td>\n",
       "    </tr>\n",
       "    <tr>\n",
       "      <th>7</th>\n",
       "      <td>-0.222222</td>\n",
       "      <td>0.578515</td>\n",
       "    </tr>\n",
       "    <tr>\n",
       "      <th>8</th>\n",
       "      <td>-0.111111</td>\n",
       "      <td>0.783728</td>\n",
       "    </tr>\n",
       "    <tr>\n",
       "      <th>9</th>\n",
       "      <td>0.000000</td>\n",
       "      <td>1.000000</td>\n",
       "    </tr>\n",
       "  </tbody>\n",
       "</table>\n",
       "</div>"
      ],
      "text/plain": [
       "          x         y\n",
       "0 -1.000000 -0.632121\n",
       "1 -0.888889 -0.477777\n",
       "2 -0.777778 -0.318352\n",
       "3 -0.666667 -0.153250\n",
       "4 -0.555556  0.018198\n",
       "5 -0.444444  0.196736\n",
       "6 -0.333333  0.383198\n",
       "7 -0.222222  0.578515\n",
       "8 -0.111111  0.783728\n",
       "9  0.000000  1.000000"
      ]
     },
     "execution_count": 3,
     "metadata": {},
     "output_type": "execute_result"
    }
   ],
   "source": [
    "# melakukan pembuatan metode tabel\n",
    "# menetukan batasan\n",
    "x = np.linspace(-1, 0, 10)\n",
    "#membuat dataframe\n",
    "datafarmer = pd.DataFrame({'x': x, 'y': f(x)})\n",
    "#membuat grafik\n",
    "fig, ax = plt.subplots()\n",
    "ax.plot(datafarmer['x'], datafarmer['y'], 'r-')\n",
    "#titik akarnya\n",
    "ax.scatter(tentukan_akar(x), f(tentukan_akar(x)), c='b', s=100)\n",
    "ax.grid(True)\n",
    "ax.set_xlabel('x')\n",
    "ax.set_ylabel('y')\n",
    "ax.set_title('Grafik fungsi f(x) = x + e^x')\n",
    "#membuat garis x dan y\n",
    "ax.add_line(plt.Line2D([-1, 0], [0, 0], color='k'))\n",
    "ax.add_line(plt.Line2D([0, 0], [-1, 0], color='k'))\n",
    "ax.add_line(plt.Line2D([0, 0], [0, 1], color='k'))\n",
    "plt.show()\n",
    "print('Data yang di dapatkan : ')\n",
    "datafarmer"
   ]
  },
  {
   "cell_type": "code",
   "execution_count": 4,
   "metadata": {},
   "outputs": [
    {
     "name": "stdout",
     "output_type": "stream",
     "text": [
      "Akar yang akan di dapatkan :\n",
      "Akar :          -0.6111111111111112 \n",
      "dan fungsinya : -0.06836362994688927\n"
     ]
    }
   ],
   "source": [
    "# menentukan akar\n",
    "print('Akar yang akan di dapatkan :')\n",
    "print('Akar : {:>28} \\ndan fungsinya : {}'.format(tentukan_akar(x), f(tentukan_akar(x))))"
   ]
  },
  {
   "cell_type": "markdown",
   "metadata": {},
   "source": [
    "<h4>Metode biseksi: </h4>"
   ]
  },
  {
   "cell_type": "code",
   "execution_count": 5,
   "metadata": {},
   "outputs": [],
   "source": [
    "# Membuat fungsi \n",
    "def f2(x):\n",
    "    y = x*np.exp(-x) + 1\n",
    "    return y\n",
    "# biseksi\n",
    "def biseksi(a,b,tol=1e-6):\n",
    "    xl = a\n",
    "    xu = b\n",
    "    print(\"|{:>8}|{:>8}|{:>8}|{:>8}|{:>8}|\".format('a','b','x','f(x)','f(a)'))\n",
    "    print(\"==============================================\")\n",
    "    while abs(xu-xl) > tol:\n",
    "        xr = (xl+xu)/2\n",
    "        if f2(xr) == 0:\n",
    "            return xr\n",
    "        elif f2(xr)*f2(xl) < 0:\n",
    "            xu = xr\n",
    "        else:\n",
    "            xl = xr\n",
    "        print(\"|{:>8.4f}|{:>8.4f}|{:>8.4f}|{:>8.4f}|{:>8.4f}|\".format(xl,xu,xr,f2(xr),f2(a)))\n",
    "    return (xl+xu)/2"
   ]
  },
  {
   "cell_type": "code",
   "execution_count": 6,
   "metadata": {},
   "outputs": [
    {
     "ename": "NameError",
     "evalue": "name 'a' is not defined",
     "output_type": "error",
     "traceback": [
      "\u001b[1;31m---------------------------------------------------------------------------\u001b[0m",
      "\u001b[1;31mNameError\u001b[0m                                 Traceback (most recent call last)",
      "\u001b[1;32mC:\\Users\\DZAKYF~1\\AppData\\Local\\Temp/ipykernel_7476/3069129205.py\u001b[0m in \u001b[0;36m<module>\u001b[1;34m\u001b[0m\n\u001b[1;32m----> 1\u001b[1;33m \u001b[0mx_akar\u001b[0m \u001b[1;33m=\u001b[0m \u001b[0mbiseksi\u001b[0m\u001b[1;33m(\u001b[0m\u001b[0ma\u001b[0m\u001b[1;33m,\u001b[0m\u001b[0mb\u001b[0m\u001b[1;33m)\u001b[0m\u001b[1;33m\u001b[0m\u001b[0m\n\u001b[0m\u001b[0;32m      2\u001b[0m \u001b[0mprint\u001b[0m\u001b[1;33m(\u001b[0m\u001b[1;34m\"Akar yang akan di dapatkan : {}\"\u001b[0m\u001b[1;33m.\u001b[0m\u001b[0mformat\u001b[0m\u001b[1;33m(\u001b[0m\u001b[0mx_akar\u001b[0m\u001b[1;33m)\u001b[0m\u001b[1;33m)\u001b[0m\u001b[1;33m\u001b[0m\u001b[0m\n",
      "\u001b[1;31mNameError\u001b[0m: name 'a' is not defined"
     ]
    }
   ],
   "source": [
    "x_akar = biseksi(a,b)\n",
    "print(\"Akar yang akan di dapatkan : {}\".format(x_akar))"
   ]
  },
  {
   "cell_type": "code",
   "execution_count": null,
   "metadata": {},
   "outputs": [
    {
     "data": {
      "image/png": "[encoded data removed]",
      "text/plain": [
       "<Figure size 432x288 with 1 Axes>"
      ]
     },
     "metadata": {},
     "output_type": "display_data"
    },
    {
     "name": "stdout",
     "output_type": "stream",
     "text": [
      "data yang di dapatkan : \n"
     ]
    },
    {
     "data": {
      "text/html": [
       "<div>\n",
       "<style scoped>\n",
       "    .dataframe tbody tr th:only-of-type {\n",
       "        vertical-align: middle;\n",
       "    }\n",
       "\n",
       "    .dataframe tbody tr th {\n",
       "        vertical-align: top;\n",
       "    }\n",
       "\n",
       "    .dataframe thead th {\n",
       "        text-align: right;\n",
       "    }\n",
       "</style>\n",
       "<table border=\"1\" class=\"dataframe\">\n",
       "  <thead>\n",
       "    <tr style=\"text-align: right;\">\n",
       "      <th></th>\n",
       "      <th>x</th>\n",
       "      <th>y</th>\n",
       "    </tr>\n",
       "  </thead>\n",
       "  <tbody>\n",
       "    <tr>\n",
       "      <th>0</th>\n",
       "      <td>-1.000000</td>\n",
       "      <td>-1.718282</td>\n",
       "    </tr>\n",
       "    <tr>\n",
       "      <th>1</th>\n",
       "      <td>-0.888889</td>\n",
       "      <td>-1.162156</td>\n",
       "    </tr>\n",
       "    <tr>\n",
       "      <th>2</th>\n",
       "      <td>-0.777778</td>\n",
       "      <td>-0.692934</td>\n",
       "    </tr>\n",
       "    <tr>\n",
       "      <th>3</th>\n",
       "      <td>-0.666667</td>\n",
       "      <td>-0.298489</td>\n",
       "    </tr>\n",
       "    <tr>\n",
       "      <th>4</th>\n",
       "      <td>-0.555556</td>\n",
       "      <td>0.031717</td>\n",
       "    </tr>\n",
       "    <tr>\n",
       "      <th>5</th>\n",
       "      <td>-0.444444</td>\n",
       "      <td>0.306834</td>\n",
       "    </tr>\n",
       "    <tr>\n",
       "      <th>6</th>\n",
       "      <td>-0.333333</td>\n",
       "      <td>0.534796</td>\n",
       "    </tr>\n",
       "    <tr>\n",
       "      <th>7</th>\n",
       "      <td>-0.222222</td>\n",
       "      <td>0.722478</td>\n",
       "    </tr>\n",
       "    <tr>\n",
       "      <th>8</th>\n",
       "      <td>-0.111111</td>\n",
       "      <td>0.875831</td>\n",
       "    </tr>\n",
       "    <tr>\n",
       "      <th>9</th>\n",
       "      <td>0.000000</td>\n",
       "      <td>1.000000</td>\n",
       "    </tr>\n",
       "  </tbody>\n",
       "</table>\n",
       "</div>"
      ],
      "text/plain": [
       "          x         y\n",
       "0 -1.000000 -1.718282\n",
       "1 -0.888889 -1.162156\n",
       "2 -0.777778 -0.692934\n",
       "3 -0.666667 -0.298489\n",
       "4 -0.555556  0.031717\n",
       "5 -0.444444  0.306834\n",
       "6 -0.333333  0.534796\n",
       "7 -0.222222  0.722478\n",
       "8 -0.111111  0.875831\n",
       "9  0.000000  1.000000"
      ]
     },
     "execution_count": 10,
     "metadata": {},
     "output_type": "execute_result"
    }
   ],
   "source": [
    "a,b = -1,0\n",
    "x2 = np.linspace(a, b, 10)\n",
    "datafarme = pd.DataFrame({'x': x2, 'y': f2(x)})\n",
    "fig, ax = plt.subplots()\n",
    "ax.plot(datafarme['x'], datafarme['y'], '--',color='r')\n",
    "ax.scatter(x_akar, f2(x_akar), c='b', s=100)\n",
    "ax.grid(True)\n",
    "#garis X\n",
    "ax.add_line(plt.Line2D([-1, 0], [0, 0], color='k'))\n",
    "ax.add_line(plt.Line2D([0, 0], [-2, 1], color='k'))\n",
    "plt.show()\n",
    "print('data yang di dapatkan : ')\n",
    "datafarme"
   ]
  },
  {
   "cell_type": "markdown",
   "metadata": {},
   "source": [
    "<h4>Metode regula falsi :</h4>"
   ]
  },
  {
   "cell_type": "code",
   "execution_count": null,
   "metadata": {},
   "outputs": [],
   "source": [
    "# membuat fungsi\n",
    "def f3(x):\n",
    "    y = x*np.exp(-x) + 1\n",
    "    return y\n",
    "\n",
    "def regula_falsi(a,b,tol=1e-6):\n",
    "    xl = a\n",
    "    xu = b\n",
    "    print(\"|{:>8}|{:>8}|{:>8}|{:>8}|{:>8}|{:>8}|\".format('a','b','x','f(x)','f(a)','f(b)'))\n",
    "    print(\"=======================================================\")\n",
    "    while abs(xu-xl) > tol:\n",
    "        xr = (xl*f3(b)-xu*f3(a))/(f3(b)-f3(a))\n",
    "        if f3(xr) == 0:\n",
    "            return xr\n",
    "        elif f3(xr)*f3(xl) < 0:\n",
    "            xu = xr\n",
    "        else:\n",
    "            xl = xr\n",
    "        print(\"|{:>8.4f}|{:>8.4f}|{:>8.4f}|{:>8.4f}|{:>8.4f}|{:>8.4f}|\".format(xl,xu,xr,f3(xr),f3(xl),f3(xu)))\n",
    "    return (xl+xu)/2"
   ]
  },
  {
   "cell_type": "code",
   "execution_count": null,
   "metadata": {},
   "outputs": [
    {
     "name": "stdout",
     "output_type": "stream",
     "text": [
      "|       a|       b|       x|    f(x)|    f(a)|    f(b)|\n",
      "=======================================================\n",
      "| -1.0000| -0.3679| -0.3679|  0.4685| -1.7183|  0.4685|\n",
      "| -0.6004| -0.3679| -0.6004| -0.0945| -0.0945|  0.4685|\n",
      "| -0.6004| -0.4534| -0.4534|  0.2864| -0.0945|  0.2864|\n",
      "| -0.6004| -0.5075| -0.5075|  0.1570| -0.0945|  0.1570|\n",
      "| -0.6004| -0.5417| -0.5417|  0.0689| -0.0945|  0.0689|\n",
      "| -0.6004| -0.5633| -0.5633|  0.0106| -0.0945|  0.0106|\n",
      "| -0.5770| -0.5633| -0.5770| -0.0273| -0.0273|  0.0106|\n",
      "| -0.5683| -0.5633| -0.5683| -0.0033| -0.0033|  0.0106|\n",
      "| -0.5683| -0.5651| -0.5651|  0.0055| -0.0033|  0.0055|\n",
      "| -0.5683| -0.5663| -0.5663|  0.0023| -0.0033|  0.0023|\n",
      "| -0.5683| -0.5671| -0.5671|  0.0003| -0.0033|  0.0003|\n",
      "| -0.5675| -0.5671| -0.5675| -0.0010| -0.0010|  0.0003|\n",
      "| -0.5672| -0.5671| -0.5672| -0.0002| -0.0002|  0.0003|\n",
      "| -0.5672| -0.5671| -0.5671|  0.0001| -0.0002|  0.0001|\n",
      "| -0.5672| -0.5671| -0.5672| -0.0000| -0.0000|  0.0001|\n",
      "| -0.5672| -0.5671| -0.5671|  0.0000| -0.0000|  0.0000|\n",
      "| -0.5672| -0.5671| -0.5671|  0.0000| -0.0000|  0.0000|\n",
      "| -0.5671| -0.5671| -0.5671| -0.0000| -0.0000|  0.0000|\n",
      "| -0.5671| -0.5671| -0.5671|  0.0000| -0.0000|  0.0000|\n",
      "| -0.5671| -0.5671| -0.5671|  0.0000| -0.0000|  0.0000|\n",
      "| -0.5671| -0.5671| -0.5671|  0.0000| -0.0000|  0.0000|\n",
      "| -0.5671| -0.5671| -0.5671|  0.0000| -0.0000|  0.0000|\n",
      "Akar yang akan di dapatkan : -0.567143479889286\n"
     ]
    }
   ],
   "source": [
    "#menjalankan iterasi\n",
    "a,b = -1,0\n",
    "x_akar2 = regula_falsi(a,b)\n",
    "print(\"Akar yang akan di dapatkan : {}\".format(x_akar2))"
   ]
  },
  {
   "cell_type": "code",
   "execution_count": null,
   "metadata": {},
   "outputs": [
    {
     "data": {
      "image/png": "[encoded data removed]",
      "text/plain": [
       "<Figure size 432x288 with 1 Axes>"
      ]
     },
     "metadata": {},
     "output_type": "display_data"
    }
   ],
   "source": [
    "#gambaran grafiknya iyalah\n",
    "x3 = np.linspace(a,b,10)\n",
    "datafarme3 = pd.DataFrame({'x': x3, 'y': f3(x3)})\n",
    "fig,ax = plt.subplots()\n",
    "ax.plot(datafarme['x'], datafarme['y'], '--',color='r')\n",
    "ax.scatter(x_akar2, f3(x_akar2), c='b', s=100)\n",
    "ax.add_line(plt.Line2D([-1, 0], [0, 0], color='k'))\n",
    "ax.add_line(plt.Line2D([0, 0], [-2, 1], color='k'))\n",
    "ax.grid(True)\n",
    "plt.show()"
   ]
  }
 ],
 "metadata": {
  "interpreter": {
   "hash": "88a0f748d48c50b547f74cc3e839e259b6b081af8ebf11db7c6ba7745374eae5"
  },
  "kernelspec": {
   "display_name": "Python 3.7.0 64-bit",
   "language": "python",
   "name": "python3"
  },
  "language_info": {
   "codemirror_mode": {
    "name": "ipython",
    "version": 3
   },
   "file_extension": ".py",
   "mimetype": "text/x-python",
   "name": "python",
   "nbconvert_exporter": "python",
   "pygments_lexer": "ipython3",
   "version": "3.7.0"
  },
  "orig_nbformat": 4
 },
 "nbformat": 4,
 "nbformat_minor": 2
}
