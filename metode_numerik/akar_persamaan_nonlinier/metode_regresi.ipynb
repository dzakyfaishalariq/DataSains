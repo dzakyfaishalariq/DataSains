{
 "cells": [
  {
   "cell_type": "markdown",
   "metadata": {},
   "source": [
    "<h1>Latihan soal regresi</h1>"
   ]
  },
  {
   "cell_type": "code",
   "execution_count": 1,
   "metadata": {},
   "outputs": [],
   "source": [
    "# import libray\n",
    "from prettytable import PrettyTable as tabel\n",
    "import numpy as np\n",
    "import pandas as pd\n",
    "import matplotlib.pyplot as plt\n",
    "import seaborn as sns\n",
    "sns.set_theme(style=\"ticks\")"
   ]
  },
  {
   "cell_type": "code",
   "execution_count": 2,
   "metadata": {},
   "outputs": [
    {
     "name": "stdout",
     "output_type": "stream",
     "text": [
      "========================================\n",
      "Tabel pengalaman kerja dan penjualan\n",
      "========================================\n",
      "+---+----+\n",
      "| X | Y  |\n",
      "+---+----+\n",
      "| 2 | 5  |\n",
      "| 3 | 8  |\n",
      "| 2 | 8  |\n",
      "| 5 | 7  |\n",
      "| 6 | 11 |\n",
      "| 1 | 3  |\n",
      "| 4 | 10 |\n",
      "| 1 | 4  |\n",
      "+---+----+\n"
     ]
    }
   ],
   "source": [
    "# membuat tabel \n",
    "# X = pengalaman kerja\n",
    "# Y = Omzet Penjualan \n",
    "X = np.array([2,3,2,5,6,1,4,1])\n",
    "Y = np.array([5,8,8,7,11,3,10,4])\n",
    "mytabel = tabel([\"X\", \"Y\"])\n",
    "for i in range(len(X)):\n",
    "    mytabel.add_row([X[i], Y[i]])\n",
    "print(\"=\"*40)\n",
    "print(\"Tabel pengalaman kerja dan penjualan\")\n",
    "print(\"=\"*40)\n",
    "print(mytabel)\n"
   ]
  },
  {
   "cell_type": "code",
   "execution_count": 3,
   "metadata": {},
   "outputs": [
    {
     "name": "stdout",
     "output_type": "stream",
     "text": [
      "+------+------+------+------+------+------+------+\n",
      "|  X   |  Y   |  x   |  y   |  xy  | x^2  | y^2  |\n",
      "+------+------+------+------+------+------+------+\n",
      "|  2   |  5   | -1.0 | -2.0 | 2.0  | 1.0  | 4.0  |\n",
      "|  3   |  8   | 0.0  | 1.0  | 0.0  | 0.0  | 1.0  |\n",
      "|  2   |  8   | -1.0 | 1.0  | -1.0 | 1.0  | 1.0  |\n",
      "|  5   |  7   | 2.0  | 0.0  | 0.0  | 4.0  | 0.0  |\n",
      "|  6   |  11  | 3.0  | 4.0  | 12.0 | 9.0  | 16.0 |\n",
      "|  1   |  3   | -2.0 | -4.0 | 8.0  | 4.0  | 16.0 |\n",
      "|  4   |  10  | 1.0  | 3.0  | 3.0  | 1.0  | 9.0  |\n",
      "|  1   |  4   | -2.0 | -3.0 | 6.0  | 4.0  | 9.0  |\n",
      "| ---+ | ---+ | ---+ | ---+ | ---+ | ---+ | ---+ |\n",
      "|  24  |  56  |  0   |  0   | 30.0 | 24.0 | 56.0 |\n",
      "+------+------+------+------+------+------+------+\n"
     ]
    }
   ],
   "source": [
    "# membuat iterasi regresinya\n",
    "mytable2  = tabel([\"X\",\"Y\",\"x\",\"y\",\"xy\",\"x^2\",\"y^2\"])\n",
    "sum_X = np.sum(X)\n",
    "sum_Y = np.sum(Y)\n",
    "sum_xy = 0\n",
    "sum_xpangkat2 = 0\n",
    "sum_ypangkat2 = 0\n",
    "for i in range(len(X)):\n",
    "    x = X[i] - (sum_X/len(X))\n",
    "    y = Y[i] - (sum_Y/len(Y))\n",
    "    sum_xy += x*y\n",
    "    sum_xpangkat2 += x*x\n",
    "    sum_ypangkat2 += y*y\n",
    "    mytable2.add_row([X[i], Y[i], x, y, x*y, x*x, y*y])\n",
    "mytable2.add_row([\"---+\",\"---+\",\"---+\",\"---+\",\"---+\",\"---+\",\"---+\"])\n",
    "mytable2.add_row([sum_X, sum_Y, 0, 0, sum_xy, sum_xpangkat2, sum_ypangkat2])\n",
    "print(mytable2)\n"
   ]
  },
  {
   "cell_type": "code",
   "execution_count": 4,
   "metadata": {},
   "outputs": [
    {
     "name": "stdout",
     "output_type": "stream",
     "text": [
      "nilai a : 3.25\n",
      "nilai b : 1.25\n"
     ]
    }
   ],
   "source": [
    "# mencari nilai a dan b\n",
    "b = sum_xy/sum_xpangkat2\n",
    "a = (sum_Y/len(X)) - (b*(sum_X/len(X)))\n",
    "print(\"nilai a : {}\".format(a))\n",
    "print(\"nilai b : {}\".format(b))"
   ]
  },
  {
   "cell_type": "code",
   "execution_count": 5,
   "metadata": {},
   "outputs": [
    {
     "data": {
      "image/png": "[encoded data removed]",
      "text/plain": [
       "<Figure size 432x288 with 1 Axes>"
      ]
     },
     "metadata": {},
     "output_type": "display_data"
    }
   ],
   "source": [
    "# gambar regresinya\n",
    "def y_baru(X):\n",
    "    y = a + b*X\n",
    "    return y\n",
    "fig, ax = plt.subplots()\n",
    "ax.scatter(X,Y,color=\"blue\")\n",
    "plt.plot(X,y_baru(X),color=\"red\")\n",
    "plt.grid()\n",
    "plt.show()"
   ]
  },
  {
   "cell_type": "code",
   "execution_count": 6,
   "metadata": {},
   "outputs": [
    {
     "name": "stdout",
     "output_type": "stream",
     "text": [
      "Omzet penjualan selama 3,5 tahun adalah 7.625\n"
     ]
    }
   ],
   "source": [
    "# jadi pengalaman kerja selama 3,5 tahun?\n",
    "def prediksi(x):\n",
    "    y = a + b*x\n",
    "    return y\n",
    "\n",
    "print(\"Omzet penjualan selama 3,5 tahun adalah {}\".format(prediksi(3.5)))"
   ]
  }
 ],
 "metadata": {
  "interpreter": {
   "hash": "88a0f748d48c50b547f74cc3e839e259b6b081af8ebf11db7c6ba7745374eae5"
  },
  "kernelspec": {
   "display_name": "Python 3.7.0 64-bit",
   "language": "python",
   "name": "python3"
  },
  "language_info": {
   "codemirror_mode": {
    "name": "ipython",
    "version": 3
   },
   "file_extension": ".py",
   "mimetype": "text/x-python",
   "name": "python",
   "nbconvert_exporter": "python",
   "pygments_lexer": "ipython3",
   "version": "3.7.0"
  },
  "orig_nbformat": 4
 },
 "nbformat": 4,
 "nbformat_minor": 2
}
