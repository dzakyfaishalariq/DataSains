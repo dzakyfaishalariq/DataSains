{
 "cells": [
  {
   "cell_type": "code",
   "execution_count": 1,
   "metadata": {},
   "outputs": [],
   "source": [
    "import numpy as np\n",
    "import matplotlib.pyplot as plt\n",
    "import pandas as pd\n",
    "from prettytable import PrettyTable as pt\n",
    "import seaborn as sns\n",
    "sns.set_theme(style=\"whitegrid\")"
   ]
  },
  {
   "cell_type": "code",
   "execution_count": 2,
   "metadata": {},
   "outputs": [
    {
     "name": "stdout",
     "output_type": "stream",
     "text": [
      "+-------+--------+----------+----------+------------+\n",
      "|  x[i] | x[i-1] |   f(i)   |  f(i-1)  | f(i)f(i-1) |\n",
      "+-------+--------+----------+----------+------------+\n",
      "|  -0.9 | -1e+00 | -0.4934  | -0.6321  |   0.3119   |\n",
      "|  -0.8 |  -0.9  | -0.3507  | -0.4934  |   0.173    |\n",
      "|  -0.7 |  -0.8  | -0.2034  | -0.3507  |  0.07133   |\n",
      "|  -0.6 |  -0.7  | -0.05119 | -0.2034  |  0.01041   |\n",
      "|  -0.5 |  -0.6  |  0.1065  | -0.05119 | -0.005453  |\n",
      "|  -0.4 |  -0.5  |  0.2703  |  0.1065  |   0.0288   |\n",
      "|  -0.3 |  -0.4  |  0.4408  |  0.2703  |   0.1192   |\n",
      "|  -0.2 |  -0.3  |  0.6187  |  0.4408  |   0.2727   |\n",
      "|  -0.1 |  -0.2  |  0.8048  |  0.6187  |   0.498    |\n",
      "| 0e+00 |  -0.1  |   1.0    |  0.8048  |   0.8048   |\n",
      "+-------+--------+----------+----------+------------+\n",
      "rentang yang di dapat area akar (-1.0 sampai 0.0) = -0.55\n",
      "akar yang di dapatkan iyalah : -0.55 dan hasil : 0.02695\n"
     ]
    }
   ],
   "source": [
    "def fungsi(x):\n",
    "    return x + np.exp(x)\n",
    "x = np.linspace(-1, 0, 11)\n",
    "mytabel = pt([\"x[i]\",\"x[i-1]\", \"f(i)\",\"f(i-1)\", \"f(i)f(i-1)\"])\n",
    "i = 1\n",
    "akar = 0\n",
    "while i < len(x):\n",
    "    mytabel.add_row([\"{:<2.1}\".format(x[i]),\"{:<2.1}\".format(x[i-1]),\"{:<2.4}\".format(fungsi(x[i])), \"{:<2.4}\".format(fungsi(x[i-1])), \"{:<2.4}\".format(fungsi(x[i])*fungsi(x[i-1]))])\n",
    "    if fungsi(x[i])*fungsi(x[i-1]) < 0:\n",
    "        akar = (x[i-1] + x[i])/2\n",
    "    i += 1\n",
    "print(mytabel)\n",
    "print(\"rentang yang di dapat area akar ({:<2.2} sampai {:<2.2}) = {:<2.2}\".format(x[0], x[-1], akar))\n",
    "print(\"akar yang di dapatkan iyalah : {} dan hasil : {:<2.4}\".format(akar, fungsi(akar)))\n"
   ]
  },
  {
   "cell_type": "code",
   "execution_count": 3,
   "metadata": {},
   "outputs": [
    {
     "data": {
      "image/png": "[encoded data removed]",
      "text/plain": [
       "<Figure size 648x360 with 1 Axes>"
      ]
     },
     "metadata": {},
     "output_type": "display_data"
    }
   ],
   "source": [
    "fig,ax = plt.subplots(figsize=(9,5))\n",
    "ax.plot(x, fungsi(x), label=\"f(x)\")\n",
    "ax.scatter(akar, fungsi(akar), label=\"akar yang di dapat\", color=\"red\")\n",
    "#memberikan keterangan pada akar\n",
    "ax.annotate(\"{},{:<2.4}\".format(akar,fungsi(akar)), xy=(akar, fungsi(akar)), xytext=(akar, fungsi(akar)+0.05))\n",
    "ax.set_xlabel(\"x\")\n",
    "ax.set_ylabel(\"f(x)\")\n",
    "plt.legend()\n",
    "plt.show()"
   ]
  },
  {
   "cell_type": "code",
   "execution_count": 22,
   "metadata": {},
   "outputs": [
    {
     "name": "stdout",
     "output_type": "stream",
     "text": [
      "+-------+-------+-------+------------+------------+-----------+------------+\n",
      "|   x   |   a   |   b   |    f(x)    |    f(a)    |    f(b)   |  f(x)f(a)  |\n",
      "+-------+-------+-------+------------+------------+-----------+------------+\n",
      "|  -0.5 |  -1.0 |  0.0  |   0.1756   |   -1.718   |    1.0    |  -0.3018   |\n",
      "| -0.75 |  -1.0 |  -0.5 |  -0.5878   |   -1.718   |   0.1756  |    1.01    |\n",
      "| -0.62 | -0.75 |  -0.5 |  -0.1677   |  -0.5878   |   0.1756  |  0.09854   |\n",
      "| -0.56 | -0.62 |  -0.5 |  0.01278   |  -0.1677   |   0.1756  | -0.002143  |\n",
      "| -0.59 | -0.62 | -0.56 |  -0.07514  |  -0.1677   |  0.01278  |   0.0126   |\n",
      "| -0.58 | -0.59 | -0.56 |  -0.03062  |  -0.07514  |  0.01278  |  0.002301  |\n",
      "| -0.57 | -0.58 | -0.56 |  -0.00878  |  -0.03062  |  0.01278  | 0.0002688  |\n",
      "| -0.57 | -0.57 | -0.56 |  0.002035  |  -0.00878  |  0.01278  | -1.787e-05 |\n",
      "| -0.57 | -0.57 | -0.57 | -0.003364  |  -0.00878  |  0.002035 | 2.953e-05  |\n",
      "| -0.57 | -0.57 | -0.57 | -0.000662  | -0.003364  |  0.002035 | 2.227e-06  |\n",
      "| -0.57 | -0.57 | -0.57 | 0.0006872  | -0.000662  |  0.002035 | -4.549e-07 |\n",
      "| -0.57 | -0.57 | -0.57 | 1.276e-05  | -0.000662  | 0.0006872 | -8.448e-09 |\n",
      "| -0.57 | -0.57 | -0.57 | -0.0003246 | -0.000662  | 1.276e-05 | 2.149e-07  |\n",
      "| -0.57 | -0.57 | -0.57 | -0.0001559 | -0.0003246 | 1.276e-05 |  5.06e-08  |\n",
      "| -0.57 | -0.57 | -0.57 | -7.157e-05 | -0.0001559 | 1.276e-05 | 1.116e-08  |\n",
      "| -0.57 | -0.57 | -0.57 | -2.94e-05  | -7.157e-05 | 1.276e-05 | 2.104e-09  |\n",
      "| -0.57 | -0.57 | -0.57 | -8.32e-06  | -2.94e-05  | 1.276e-05 | 2.446e-10  |\n",
      "| -0.57 | -0.57 | -0.57 | 2.221e-06  | -8.32e-06  | 1.276e-05 | -1.848e-11 |\n",
      "| -0.57 | -0.57 | -0.57 | -3.049e-06 | -8.32e-06  | 2.221e-06 | 2.537e-11  |\n",
      "| -0.57 | -0.57 | -0.57 | -4.14e-07  | -3.049e-06 | 2.221e-06 | 1.262e-12  |\n",
      "| -0.57 | -0.57 | -0.57 | 9.036e-07  | -4.14e-07  | 2.221e-06 | -3.741e-13 |\n",
      "| -0.57 | -0.57 | -0.57 | 2.448e-07  | -4.14e-07  | 9.036e-07 | -1.013e-13 |\n",
      "| -0.57 | -0.57 | -0.57 | -8.463e-08 | -4.14e-07  | 2.448e-07 | 3.504e-14  |\n",
      "| -0.57 | -0.57 | -0.57 | 8.007e-08  | -8.463e-08 | 2.448e-07 | -6.776e-15 |\n",
      "+-------+-------+-------+------------+------------+-----------+------------+\n"
     ]
    }
   ],
   "source": [
    "#metode biseksi\n",
    "def f(x):\n",
    "    return x*np.exp(-x)+1\n",
    "a = -1\n",
    "b = 0\n",
    "N = 100\n",
    "e = 1e-7\n",
    "def mainkan(f, a, b, N,e):\n",
    "    mytabel = pt([\"x\",\"a\",\"b\",\"f(x)\",\"f(a)\",\"f(b)\", \"f(x)f(a)\"])\n",
    "    x = (a+b)/2\n",
    "    fb = f(b)\n",
    "    fa = f(a)\n",
    "    while abs(b-a) > e:\n",
    "        mytabel.add_row([\"{:<1.2}\".format(float(x)),\"{:<1.2}\".format(float(a)),\"{:<1.2}\".format(float(b)),\"{:<1.4}\".format(float(f(x))),\"{:<1.4}\".format(float(fa)),\"{:<1.4}\".format(float(fb)),\"{:<1.4}\".format(float(f(x)*fa))])\n",
    "        if f(x)*fa < 0:\n",
    "            b = x\n",
    "        else:\n",
    "            a = x\n",
    "        x = (a+b)/2\n",
    "        fb = f(b)\n",
    "        fa = f(a)\n",
    "    print(mytabel)\n",
    "mainkan(f, a, b, N, e)"
   ]
  }
 ],
 "metadata": {
  "interpreter": {
   "hash": "88a0f748d48c50b547f74cc3e839e259b6b081af8ebf11db7c6ba7745374eae5"
  },
  "kernelspec": {
   "display_name": "Python 3.7.0 64-bit",
   "language": "python",
   "name": "python3"
  },
  "language_info": {
   "codemirror_mode": {
    "name": "ipython",
    "version": 3
   },
   "file_extension": ".py",
   "mimetype": "text/x-python",
   "name": "python",
   "nbconvert_exporter": "python",
   "pygments_lexer": "ipython3",
   "version": "3.7.0"
  },
  "orig_nbformat": 4
 },
 "nbformat": 4,
 "nbformat_minor": 2
}
