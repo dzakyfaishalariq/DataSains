{
 "cells": [
  {
   "cell_type": "markdown",
   "metadata": {},
   "source": [
    "<h1>Latihan Grafikom translasi dan sekala</h1>\n"
   ]
  },
  {
   "cell_type": "code",
   "execution_count": 3,
   "metadata": {},
   "outputs": [],
   "source": [
    "import pandas as pd\n",
    "import numpy as np\n",
    "import matplotlib.pyplot as plt\n",
    "import seaborn as sns\n",
    "sns.set_theme(style='ticks')\n"
   ]
  },
  {
   "cell_type": "code",
   "execution_count": 4,
   "metadata": {},
   "outputs": [],
   "source": [
    "#fungsi\n",
    "def fungsi_translation(d_segitiga,T):\n",
    "    \"\"\"\n",
    "    aturan = [\n",
    "        [1,1], =>titik A\n",
    "        [1,4], =>titik B\n",
    "        [4,1]  =>titik C\n",
    "    ]\n",
    "    \"\"\"\n",
    "    hasil = []\n",
    "    for i in d_segitiga:\n",
    "        i[0] += T[0]\n",
    "        i[1] += T[1]\n",
    "        hasil.append(i)\n",
    "    return hasil\n"
   ]
  },
  {
   "cell_type": "code",
   "execution_count": 5,
   "metadata": {},
   "outputs": [
    {
     "data": {
      "image/png": "[encoded data removed]",
      "text/plain": [
       "<Figure size 432x288 with 1 Axes>"
      ]
     },
     "metadata": {},
     "output_type": "display_data"
    },
    {
     "name": "stdout",
     "output_type": "stream",
     "text": [
      "Bagian translasi segitiga\n"
     ]
    }
   ],
   "source": [
    "d_segitiga = [\n",
    "    [1,1],\n",
    "    [1,4],\n",
    "    [4,1]\n",
    "]\n",
    "T = [2,3]\n",
    "fig,ax = plt.subplots()\n",
    "#segitiga awal\n",
    "a = d_segitiga[0]\n",
    "b = d_segitiga[1]\n",
    "c = d_segitiga[2]\n",
    "ax.add_line(plt.Line2D([a[0],b[0]],[a[1],b[1]],color='red'))\n",
    "ax.add_line(plt.Line2D([b[0],c[0]],[b[1],c[1]],color='red'))\n",
    "ax.add_line(plt.Line2D([c[0],a[0]],[c[1],a[1]],color='red'))\n",
    "#segitiga hasil\n",
    "hasil = fungsi_translation(d_segitiga,T)\n",
    "d = hasil[0]\n",
    "e = hasil[1]\n",
    "f = hasil[2]\n",
    "ax.add_line(plt.Line2D([d[0],e[0]],[d[1],e[1]],color='blue'))\n",
    "ax.add_line(plt.Line2D([e[0],f[0]],[e[1],f[1]],color='blue'))\n",
    "ax.add_line(plt.Line2D([f[0],d[0]],[f[1],d[1]],color='blue'))\n",
    "plt.axis([0,15,0,10])\n",
    "plt.grid(True)\n",
    "plt.show()\n",
    "\n",
    "print(\"Bagian translasi segitiga\")\n",
    "\n"
   ]
  },
  {
   "cell_type": "code",
   "execution_count": 6,
   "metadata": {},
   "outputs": [
    {
     "data": {
      "image/png": "[encoded data removed]",
      "text/plain": [
       "<Figure size 432x288 with 1 Axes>"
      ]
     },
     "metadata": {},
     "output_type": "display_data"
    },
    {
     "name": "stdout",
     "output_type": "stream",
     "text": [
      "[[1 0 0]\n",
      " [0 1 0]\n",
      " [2 3 1]]\n",
      "\n",
      "[[1 1 1]\n",
      " [1 4 1]\n",
      " [4 1 1]]\n",
      "-------+\n",
      "[[3 4 1]\n",
      " [3 7 1]\n",
      " [6 4 1]]\n"
     ]
    }
   ],
   "source": [
    "#cara kedua translasi segitiga\n",
    "def fungsi_translasi2(d_segitiga,T):\n",
    "    b = np.array([[1,0,0],[0,1,0],[T[0],T[1],1]])\n",
    "    return np.dot(d_segitiga,b),b\n",
    "a = np.array([[1,1,1],[1,4,1],[4,1,1]])\n",
    "hasil,b=fungsi_translasi2(a,[2,3])\n",
    "# gambar segitiga awal\n",
    "fig,ax = plt.subplots()\n",
    "ax.add_line(plt.Line2D([1,1],[1,4],color='red'))\n",
    "ax.add_line(plt.Line2D([1,4],[4,1],color='red'))\n",
    "ax.add_line(plt.Line2D([4,1],[1,1],color='red'))\n",
    "\n",
    "#gambar segitiga akhir\n",
    "ax.add_line(plt.Line2D([hasil[0][0],hasil[1][0]],[hasil[0][1],hasil[1][1]],color='blue'))\n",
    "ax.add_line(plt.Line2D([hasil[1][0],hasil[2][0]],[hasil[1][1],hasil[2][1]],color='blue'))\n",
    "ax.add_line(plt.Line2D([hasil[2][0],hasil[0][0]],[hasil[2][1],hasil[0][1]],color='blue'))\n",
    "plt.axis([0,15,0,10])\n",
    "plt.grid(True)\n",
    "plt.show()\n",
    "print(b)\n",
    "print()\n",
    "print(a)\n",
    "print('-------+')\n",
    "print(hasil)"
   ]
  },
  {
   "cell_type": "code",
   "execution_count": 14,
   "metadata": {},
   "outputs": [
    {
     "name": "stdout",
     "output_type": "stream",
     "text": [
      "[[2 2]\n",
      " [2 8]\n",
      " [8 2]]\n"
     ]
    },
    {
     "data": {
      "image/png": "[encoded data removed]",
      "text/plain": [
       "<Figure size 432x288 with 1 Axes>"
      ]
     },
     "metadata": {},
     "output_type": "display_data"
    }
   ],
   "source": [
    "#membut penskalaan segitiga cara 1\n",
    "\"\"\"\n",
    "            menggunaka rumus 1 jika di titik 0\n",
    "            |s 0| * |x| = |x'|\n",
    "            |0 s|   |y|   |y'|\n",
    "            menggunakan rumus 2 jika di titik (a,b)\n",
    "            |s 0| * |x - a| + |a| = |x'|\n",
    "            |0 s|   |y - b|   |b|   |y'|\n",
    "\"\"\"\n",
    "\n",
    "def sekala_segitiga(d_segitiga,S):\n",
    "    hasil = []\n",
    "    for i in d_segitiga:\n",
    "        i[0] *= S\n",
    "        i[1] *= S\n",
    "        hasil.append(i)\n",
    "    return np.array(hasil)\n",
    "\n",
    "a = np.array([[1,1],[1,4],[4,1]])\n",
    "hasil = sekala_segitiga(a,2)\n",
    "print(hasil)\n",
    "# membuat segitiga awal\n",
    "fig, ax = plt.subplots()\n",
    "ax.add_line(plt.Line2D([1,1],[1,4],color='red'))\n",
    "ax.add_line(plt.Line2D([1,4],[4,1],color='red'))\n",
    "ax.add_line(plt.Line2D([4,1],[1,1],color='red'))\n",
    "\n",
    "# membuat segitiga akhir\n",
    "ax.add_line(plt.Line2D([hasil[0][0],hasil[1][0]],[hasil[0][1],hasil[1][1]],color='blue'))\n",
    "ax.add_line(plt.Line2D([hasil[1][0],hasil[2][0]],[hasil[1][1],hasil[2][1]],color='blue'))\n",
    "ax.add_line(plt.Line2D([hasil[2][0],hasil[0][0]],[hasil[2][1],hasil[0][1]],color='blue'))\n",
    "plt.grid(True)\n",
    "plt.axis([0,15,0,10])\n",
    "plt.show()\n",
    "\n",
    "# membuat sekala jika menggunakan rumus 2\n",
    "def penskalaan_segitiga2(d_segitiga,S,T):\n",
    "    for i in d_segitiga:\n",
    "        pass    \n",
    "    pass\n",
    "a = np.array([[1,1],[1,4],[4,1]])\n",
    "s = 2\n",
    "T = np.array([2,3])\n",
    "hasil = penskalaan_segitiga2(a,s,T)"
   ]
  }
 ],
 "metadata": {
  "interpreter": {
   "hash": "88a0f748d48c50b547f74cc3e839e259b6b081af8ebf11db7c6ba7745374eae5"
  },
  "kernelspec": {
   "display_name": "Python 3.7.0 64-bit",
   "language": "python",
   "name": "python3"
  },
  "language_info": {
   "codemirror_mode": {
    "name": "ipython",
    "version": 3
   },
   "file_extension": ".py",
   "mimetype": "text/x-python",
   "name": "python",
   "nbconvert_exporter": "python",
   "pygments_lexer": "ipython3",
   "version": "3.7.0"
  },
  "orig_nbformat": 4
 },
 "nbformat": 4,
 "nbformat_minor": 2
}
