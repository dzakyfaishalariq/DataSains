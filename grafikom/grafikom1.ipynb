{
 "cells": [
  {
   "cell_type": "markdown",
   "metadata": {},
   "source": [
    "<h1>Latihan Grafikom translasi dan sekala</h1>\n"
   ]
  },
  {
   "cell_type": "code",
   "execution_count": 11,
   "metadata": {},
   "outputs": [],
   "source": [
    "import pandas as pd\n",
    "import numpy as np\n",
    "import matplotlib.pyplot as plt\n",
    "import seaborn as sns\n",
    "sns.set_theme(style='ticks')\n"
   ]
  },
  {
   "cell_type": "code",
   "execution_count": 54,
   "metadata": {},
   "outputs": [],
   "source": [
    "#fungsi\n",
    "def fungsi_translation(d_segitiga,T):\n",
    "    \"\"\"\n",
    "    aturan = [\n",
    "        [1,1], =>titik A\n",
    "        [1,4], =>titik B\n",
    "        [4,1]  =>titik C\n",
    "    ]\n",
    "    \"\"\"\n",
    "    hasil = []\n",
    "    for i in d_segitiga:\n",
    "        i[0] += T[0]\n",
    "        i[1] += T[1]\n",
    "        hasil.append(i)\n",
    "    return hasil\n"
   ]
  },
  {
   "cell_type": "code",
   "execution_count": 55,
   "metadata": {},
   "outputs": [
    {
     "data": {
      "image/png": "[encoded data removed]",
      "text/plain": [
       "<Figure size 432x288 with 1 Axes>"
      ]
     },
     "metadata": {},
     "output_type": "display_data"
    },
    {
     "name": "stdout",
     "output_type": "stream",
     "text": [
      "Bagian translasi segitiga\n"
     ]
    }
   ],
   "source": [
    "d_segitiga = [\n",
    "    [1,1],\n",
    "    [1,4],\n",
    "    [4,1]\n",
    "]\n",
    "T = [2,3]\n",
    "fig,ax = plt.subplots()\n",
    "#segitiga awal\n",
    "a = d_segitiga[0]\n",
    "b = d_segitiga[1]\n",
    "c = d_segitiga[2]\n",
    "ax.add_line(plt.Line2D([a[0],b[0]],[a[1],b[1]],color='red'))\n",
    "ax.add_line(plt.Line2D([b[0],c[0]],[b[1],c[1]],color='red'))\n",
    "ax.add_line(plt.Line2D([c[0],a[0]],[c[1],a[1]],color='red'))\n",
    "#segitiga hasil\n",
    "hasil = fungsi_translation(d_segitiga,T)\n",
    "d = hasil[0]\n",
    "e = hasil[1]\n",
    "f = hasil[2]\n",
    "ax.add_line(plt.Line2D([d[0],e[0]],[d[1],e[1]],color='blue'))\n",
    "ax.add_line(plt.Line2D([e[0],f[0]],[e[1],f[1]],color='blue'))\n",
    "ax.add_line(plt.Line2D([f[0],d[0]],[f[1],d[1]],color='blue'))\n",
    "plt.axis([0,15,0,10])\n",
    "plt.grid(True)\n",
    "plt.show()\n",
    "\n",
    "print(\"Bagian translasi segitiga\")\n",
    "\n"
   ]
  }
 ],
 "metadata": {
  "interpreter": {
   "hash": "88a0f748d48c50b547f74cc3e839e259b6b081af8ebf11db7c6ba7745374eae5"
  },
  "kernelspec": {
   "display_name": "Python 3.7.0 64-bit",
   "language": "python",
   "name": "python3"
  },
  "language_info": {
   "codemirror_mode": {
    "name": "ipython",
    "version": 3
   },
   "file_extension": ".py",
   "mimetype": "text/x-python",
   "name": "python",
   "nbconvert_exporter": "python",
   "pygments_lexer": "ipython3",
   "version": "3.7.0"
  },
  "orig_nbformat": 4
 },
 "nbformat": 4,
 "nbformat_minor": 2
}
