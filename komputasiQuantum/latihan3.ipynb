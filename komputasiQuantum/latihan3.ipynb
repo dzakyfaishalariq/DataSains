{
 "cells": [
  {
   "cell_type": "code",
   "execution_count": 2,
   "metadata": {},
   "outputs": [],
   "source": [
    "from qiskit import *"
   ]
  },
  {
   "cell_type": "code",
   "execution_count": 4,
   "metadata": {},
   "outputs": [
    {
     "data": {
      "text/html": [
       "<pre style=\"word-wrap: normal;white-space: pre;background: #fff0;line-height: 1.1;font-family: &quot;Courier New&quot;,Courier,monospace\">     \n",
       "q_0: \n",
       "     \n",
       "q_1: \n",
       "     \n",
       "q_2: \n",
       "     \n",
       "c: 3/\n",
       "     </pre>"
      ],
      "text/plain": [
       "     \n",
       "q_0: \n",
       "     \n",
       "q_1: \n",
       "     \n",
       "q_2: \n",
       "     \n",
       "c: 3/\n",
       "     "
      ]
     },
     "execution_count": 4,
     "metadata": {},
     "output_type": "execute_result"
    }
   ],
   "source": [
    "#membangun sirkuit kuantum dengan 3 bit kuantum dan 3 bit klasik\n",
    "circuit = QuantumCircuit(3,3)\n",
    "#menampilkan gambar\n",
    "%matplotlib inline\n",
    "circuit.draw()"
   ]
  },
  {
   "cell_type": "code",
   "execution_count": 5,
   "metadata": {},
   "outputs": [
    {
     "data": {
      "text/html": [
       "<pre style=\"word-wrap: normal;white-space: pre;background: #fff0;line-height: 1.1;font-family: &quot;Courier New&quot;,Courier,monospace\">     ┌───┐ ░ \n",
       "q_0: ┤ X ├─░─\n",
       "     └───┘ ░ \n",
       "q_1: ──────░─\n",
       "           ░ \n",
       "q_2: ──────░─\n",
       "           ░ \n",
       "c: 3/════════\n",
       "             </pre>"
      ],
      "text/plain": [
       "     ┌───┐ ░ \n",
       "q_0: ┤ X ├─░─\n",
       "     └───┘ ░ \n",
       "q_1: ──────░─\n",
       "           ░ \n",
       "q_2: ──────░─\n",
       "           ░ \n",
       "c: 3/════════\n",
       "             "
      ]
     },
     "execution_count": 5,
     "metadata": {},
     "output_type": "execute_result"
    }
   ],
   "source": [
    "# menggunakan teleportasi sirquit dengan sirquit x\n",
    "circuit.x(0)\n",
    "circuit.barrier()\n",
    "circuit.draw()"
   ]
  },
  {
   "cell_type": "code",
   "execution_count": 10,
   "metadata": {},
   "outputs": [
    {
     "data": {
      "text/html": [
       "<pre style=\"word-wrap: normal;white-space: pre;background: #fff0;line-height: 1.1;font-family: &quot;Courier New&quot;,Courier,monospace\">     ┌───┐ ░                                              \n",
       "q_0: ┤ X ├─░──────────────────────────────────────────────\n",
       "     └───┘ ░ ┌───┐     ┌───┐     ┌───┐┌───┐     ┌───┐     \n",
       "q_1: ──────░─┤ H ├──■──┤ H ├──■──┤ H ├┤ H ├──■──┤ H ├──■──\n",
       "           ░ └───┘┌─┴─┐└───┘┌─┴─┐└───┘└───┘┌─┴─┐└───┘┌─┴─┐\n",
       "q_2: ──────░──────┤ X ├─────┤ X ├──────────┤ X ├─────┤ X ├\n",
       "           ░      └───┘     └───┘          └───┘     └───┘\n",
       "c: 3/═════════════════════════════════════════════════════\n",
       "                                                          </pre>"
      ],
      "text/plain": [
       "     ┌───┐ ░                                              \n",
       "q_0: ┤ X ├─░──────────────────────────────────────────────\n",
       "     └───┘ ░ ┌───┐     ┌───┐     ┌───┐┌───┐     ┌───┐     \n",
       "q_1: ──────░─┤ H ├──■──┤ H ├──■──┤ H ├┤ H ├──■──┤ H ├──■──\n",
       "           ░ └───┘┌─┴─┐└───┘┌─┴─┐└───┘└───┘┌─┴─┐└───┘┌─┴─┐\n",
       "q_2: ──────░──────┤ X ├─────┤ X ├──────────┤ X ├─────┤ X ├\n",
       "           ░      └───┘     └───┘          └───┘     └───┘\n",
       "c: 3/═════════════════════════════════════════════════════\n",
       "                                                          "
      ]
     },
     "execution_count": 10,
     "metadata": {},
     "output_type": "execute_result"
    }
   ],
   "source": [
    "circuit.h(1)\n",
    "circuit.cx(1,2)\n",
    "circuit.draw()"
   ]
  },
  {
   "cell_type": "code",
   "execution_count": 11,
   "metadata": {},
   "outputs": [
    {
     "data": {
      "text/html": [
       "<pre style=\"word-wrap: normal;white-space: pre;background: #fff0;line-height: 1.1;font-family: &quot;Courier New&quot;,Courier,monospace\">     ┌───┐ ░                                                   ┌───┐\n",
       "q_0: ┤ X ├─░────────────────────────────────────────────────■──┤ H ├\n",
       "     └───┘ ░ ┌───┐     ┌───┐     ┌───┐┌───┐     ┌───┐     ┌─┴─┐└───┘\n",
       "q_1: ──────░─┤ H ├──■──┤ H ├──■──┤ H ├┤ H ├──■──┤ H ├──■──┤ X ├─────\n",
       "           ░ └───┘┌─┴─┐└───┘┌─┴─┐└───┘└───┘┌─┴─┐└───┘┌─┴─┐└───┘     \n",
       "q_2: ──────░──────┤ X ├─────┤ X ├──────────┤ X ├─────┤ X ├──────────\n",
       "           ░      └───┘     └───┘          └───┘     └───┘          \n",
       "c: 3/═══════════════════════════════════════════════════════════════\n",
       "                                                                    </pre>"
      ],
      "text/plain": [
       "     ┌───┐ ░                                                   ┌───┐\n",
       "q_0: ┤ X ├─░────────────────────────────────────────────────■──┤ H ├\n",
       "     └───┘ ░ ┌───┐     ┌───┐     ┌───┐┌───┐     ┌───┐     ┌─┴─┐└───┘\n",
       "q_1: ──────░─┤ H ├──■──┤ H ├──■──┤ H ├┤ H ├──■──┤ H ├──■──┤ X ├─────\n",
       "           ░ └───┘┌─┴─┐└───┘┌─┴─┐└───┘└───┘┌─┴─┐└───┘┌─┴─┐└───┘     \n",
       "q_2: ──────░──────┤ X ├─────┤ X ├──────────┤ X ├─────┤ X ├──────────\n",
       "           ░      └───┘     └───┘          └───┘     └───┘          \n",
       "c: 3/═══════════════════════════════════════════════════════════════\n",
       "                                                                    "
      ]
     },
     "execution_count": 11,
     "metadata": {},
     "output_type": "execute_result"
    }
   ],
   "source": [
    "circuit.cx(0,1)\n",
    "circuit.h(0)\n",
    "circuit.draw()"
   ]
  },
  {
   "cell_type": "code",
   "execution_count": 12,
   "metadata": {},
   "outputs": [
    {
     "data": {
      "text/html": [
       "<pre style=\"word-wrap: normal;white-space: pre;background: #fff0;line-height: 1.1;font-family: &quot;Courier New&quot;,Courier,monospace\">     ┌───┐ ░                                                   ┌───┐ ░ ┌─┐   \n",
       "q_0: ┤ X ├─░────────────────────────────────────────────────■──┤ H ├─░─┤M├───\n",
       "     └───┘ ░ ┌───┐     ┌───┐     ┌───┐┌───┐     ┌───┐     ┌─┴─┐└───┘ ░ └╥┘┌─┐\n",
       "q_1: ──────░─┤ H ├──■──┤ H ├──■──┤ H ├┤ H ├──■──┤ H ├──■──┤ X ├──────░──╫─┤M├\n",
       "           ░ └───┘┌─┴─┐└───┘┌─┴─┐└───┘└───┘┌─┴─┐└───┘┌─┴─┐└───┘      ░  ║ └╥┘\n",
       "q_2: ──────░──────┤ X ├─────┤ X ├──────────┤ X ├─────┤ X ├───────────░──╫──╫─\n",
       "           ░      └───┘     └───┘          └───┘     └───┘           ░  ║  ║ \n",
       "c: 3/═══════════════════════════════════════════════════════════════════╩══╩═\n",
       "                                                                        0  1 </pre>"
      ],
      "text/plain": [
       "     ┌───┐ ░                                                   ┌───┐ ░ ┌─┐   \n",
       "q_0: ┤ X ├─░────────────────────────────────────────────────■──┤ H ├─░─┤M├───\n",
       "     └───┘ ░ ┌───┐     ┌───┐     ┌───┐┌───┐     ┌───┐     ┌─┴─┐└───┘ ░ └╥┘┌─┐\n",
       "q_1: ──────░─┤ H ├──■──┤ H ├──■──┤ H ├┤ H ├──■──┤ H ├──■──┤ X ├──────░──╫─┤M├\n",
       "           ░ └───┘┌─┴─┐└───┘┌─┴─┐└───┘└───┘┌─┴─┐└───┘┌─┴─┐└───┘      ░  ║ └╥┘\n",
       "q_2: ──────░──────┤ X ├─────┤ X ├──────────┤ X ├─────┤ X ├───────────░──╫──╫─\n",
       "           ░      └───┘     └───┘          └───┘     └───┘           ░  ║  ║ \n",
       "c: 3/═══════════════════════════════════════════════════════════════════╩══╩═\n",
       "                                                                        0  1 "
      ]
     },
     "execution_count": 12,
     "metadata": {},
     "output_type": "execute_result"
    }
   ],
   "source": [
    "circuit.barrier()\n",
    "circuit.measure([0,1],[0,1])\n",
    "circuit.draw()"
   ]
  },
  {
   "cell_type": "code",
   "execution_count": 13,
   "metadata": {},
   "outputs": [
    {
     "data": {
      "text/html": [
       "<pre style=\"word-wrap: normal;white-space: pre;background: #fff0;line-height: 1.1;font-family: &quot;Courier New&quot;,Courier,monospace\">     ┌───┐ ░                                                   ┌───┐ ░ ┌─┐   »\n",
       "q_0: ┤ X ├─░────────────────────────────────────────────────■──┤ H ├─░─┤M├───»\n",
       "     └───┘ ░ ┌───┐     ┌───┐     ┌───┐┌───┐     ┌───┐     ┌─┴─┐└───┘ ░ └╥┘┌─┐»\n",
       "q_1: ──────░─┤ H ├──■──┤ H ├──■──┤ H ├┤ H ├──■──┤ H ├──■──┤ X ├──────░──╫─┤M├»\n",
       "           ░ └───┘┌─┴─┐└───┘┌─┴─┐└───┘└───┘┌─┴─┐└───┘┌─┴─┐└───┘      ░  ║ └╥┘»\n",
       "q_2: ──────░──────┤ X ├─────┤ X ├──────────┤ X ├─────┤ X ├───────────░──╫──╫─»\n",
       "           ░      └───┘     └───┘          └───┘     └───┘           ░  ║  ║ »\n",
       "c: 3/═══════════════════════════════════════════════════════════════════╩══╩═»\n",
       "                                                                        0  1 »\n",
       "«      ░         \n",
       "«q_0: ─░───────■─\n",
       "«      ░       │ \n",
       "«q_1: ─░───■───┼─\n",
       "«      ░ ┌─┴─┐ │ \n",
       "«q_2: ─░─┤ X ├─■─\n",
       "«      ░ └───┘   \n",
       "«c: 3/═══════════\n",
       "«                </pre>"
      ],
      "text/plain": [
       "     ┌───┐ ░                                                   ┌───┐ ░ ┌─┐   »\n",
       "q_0: ┤ X ├─░────────────────────────────────────────────────■──┤ H ├─░─┤M├───»\n",
       "     └───┘ ░ ┌───┐     ┌───┐     ┌───┐┌───┐     ┌───┐     ┌─┴─┐└───┘ ░ └╥┘┌─┐»\n",
       "q_1: ──────░─┤ H ├──■──┤ H ├──■──┤ H ├┤ H ├──■──┤ H ├──■──┤ X ├──────░──╫─┤M├»\n",
       "           ░ └───┘┌─┴─┐└───┘┌─┴─┐└───┘└───┘┌─┴─┐└───┘┌─┴─┐└───┘      ░  ║ └╥┘»\n",
       "q_2: ──────░──────┤ X ├─────┤ X ├──────────┤ X ├─────┤ X ├───────────░──╫──╫─»\n",
       "           ░      └───┘     └───┘          └───┘     └───┘           ░  ║  ║ »\n",
       "c: 3/═══════════════════════════════════════════════════════════════════╩══╩═»\n",
       "                                                                        0  1 »\n",
       "«      ░         \n",
       "«q_0: ─░───────■─\n",
       "«      ░       │ \n",
       "«q_1: ─░───■───┼─\n",
       "«      ░ ┌─┴─┐ │ \n",
       "«q_2: ─░─┤ X ├─■─\n",
       "«      ░ └───┘   \n",
       "«c: 3/═══════════\n",
       "«                "
      ]
     },
     "execution_count": 13,
     "metadata": {},
     "output_type": "execute_result"
    }
   ],
   "source": [
    "circuit.barrier()\n",
    "circuit.cx(1,2)\n",
    "circuit.cz(0,2)\n",
    "circuit.draw()"
   ]
  },
  {
   "cell_type": "code",
   "execution_count": 16,
   "metadata": {},
   "outputs": [
    {
     "data": {
      "image/png": "[encoded data removed]",
      "text/plain": [
       "<Figure size 504x360 with 1 Axes>"
      ]
     },
     "execution_count": 16,
     "metadata": {},
     "output_type": "execute_result"
    }
   ],
   "source": [
    "circuit.measure(2,2)\n",
    "simulator = Aer.get_backend('qasm_simulator')\n",
    "result = execute(circuit, simulator,shots = 1024).result()\n",
    "counts = result.get_counts()\n",
    "from qiskit.tools.visualization import plot_histogram\n",
    "plot_histogram(counts)"
   ]
  },
  {
   "cell_type": "code",
   "execution_count": 17,
   "metadata": {},
   "outputs": [
    {
     "name": "stdout",
     "output_type": "stream",
     "text": [
      "{'000': 283, '111': 254, '001': 238, '110': 249}\n"
     ]
    }
   ],
   "source": [
    "print(counts)"
   ]
  }
 ],
 "metadata": {
  "interpreter": {
   "hash": "88a0f748d48c50b547f74cc3e839e259b6b081af8ebf11db7c6ba7745374eae5"
  },
  "kernelspec": {
   "display_name": "Python 3.7.0 64-bit",
   "language": "python",
   "name": "python3"
  },
  "language_info": {
   "codemirror_mode": {
    "name": "ipython",
    "version": 3
   },
   "file_extension": ".py",
   "mimetype": "text/x-python",
   "name": "python",
   "nbconvert_exporter": "python",
   "pygments_lexer": "ipython3",
   "version": "3.7.0"
  },
  "orig_nbformat": 4
 },
 "nbformat": 4,
 "nbformat_minor": 2
}
