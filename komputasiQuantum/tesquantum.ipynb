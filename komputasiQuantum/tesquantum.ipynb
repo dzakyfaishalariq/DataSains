{
 "cells": [
  {
   "cell_type": "markdown",
   "metadata": {},
   "source": [
    "<h1>Tes menghubungkan alat kerja quantum onlain</h1>"
   ]
  },
  {
   "cell_type": "code",
   "execution_count": 1,
   "metadata": {},
   "outputs": [],
   "source": [
    "import qiskit as qk\n",
    "import numpy as np\n",
    "import pandas as pd"
   ]
  },
  {
   "cell_type": "code",
   "execution_count": 2,
   "metadata": {},
   "outputs": [
    {
     "name": "stdout",
     "output_type": "stream",
     "text": [
      "0.20.1 = qiskit-terra\n",
      "0.10.4 = qiskit-aer\n",
      "0.7.0 = qiskit-ignis\n",
      "0.19.1 = qiskit-ibmq-provider\n",
      "None = qiskit-aqua\n",
      "0.36.1 = qiskit\n",
      "None = qiskit-nature\n",
      "None = qiskit-finance\n",
      "None = qiskit-optimization\n",
      "None = qiskit-machine-learning\n"
     ]
    }
   ],
   "source": [
    "# pengecekan versi qisqit\n",
    "nilai = qk.__qiskit_version__\n",
    "for i in nilai:\n",
    "    print(str(nilai[i]) + \" = \" + i)"
   ]
  },
  {
   "cell_type": "code",
   "execution_count": 17,
   "metadata": {},
   "outputs": [],
   "source": [
    "from qiskit import IBMQ\n",
    "#digunakan untuk menghapus pesan error ketika menggunakan IBMQ\n",
    "IBMQ.delete_account()"
   ]
  },
  {
   "cell_type": "code",
   "execution_count": 18,
   "metadata": {},
   "outputs": [],
   "source": [
    "IBMQ.save_account('98a87b15246f57004fefcceee25619e39f97d1780df743a7261b8bfc51f943c3d86796d8c0a27584f2e04ce1fc062466425aa6f8a9535d536716c5c3ff633b4d')\n"
   ]
  },
  {
   "cell_type": "code",
   "execution_count": 19,
   "metadata": {},
   "outputs": [
    {
     "data": {
      "text/plain": [
       "<AccountProvider for IBMQ(hub='ibm-q', group='open', project='main')>"
      ]
     },
     "execution_count": 19,
     "metadata": {},
     "output_type": "execute_result"
    }
   ],
   "source": [
    "IBMQ.load_account()"
   ]
  }
 ],
 "metadata": {
  "interpreter": {
   "hash": "88a0f748d48c50b547f74cc3e839e259b6b081af8ebf11db7c6ba7745374eae5"
  },
  "kernelspec": {
   "display_name": "Python 3.7.0 64-bit",
   "language": "python",
   "name": "python3"
  },
  "language_info": {
   "codemirror_mode": {
    "name": "ipython",
    "version": 3
   },
   "file_extension": ".py",
   "mimetype": "text/x-python",
   "name": "python",
   "nbconvert_exporter": "python",
   "pygments_lexer": "ipython3",
   "version": "3.7.0"
  },
  "orig_nbformat": 4
 },
 "nbformat": 4,
 "nbformat_minor": 2
}
