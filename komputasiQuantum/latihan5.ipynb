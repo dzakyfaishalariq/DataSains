{
 "cells": [
  {
   "cell_type": "code",
   "execution_count": 1,
   "metadata": {},
   "outputs": [],
   "source": [
    "import qiskit\n",
    "from qiskit import *\n",
    "import numpy as np"
   ]
  },
  {
   "cell_type": "code",
   "execution_count": 2,
   "metadata": {},
   "outputs": [],
   "source": [
    "IBMQ.delete_account()"
   ]
  },
  {
   "cell_type": "code",
   "execution_count": 3,
   "metadata": {},
   "outputs": [],
   "source": [
    "IBMQ.save_account('148b353903df1fe286a120a4a372780a8c98ce47f6f2aa0189e231d664b6f5271828ac4575dcb0a397d62718fe1c7826b67240f638f53207a8a021b9bf541fea')"
   ]
  },
  {
   "cell_type": "code",
   "execution_count": 4,
   "metadata": {},
   "outputs": [
    {
     "data": {
      "text/plain": [
       "{'qiskit-terra': '0.20.1', 'qiskit-aer': '0.10.4', 'qiskit-ignis': '0.7.0', 'qiskit-ibmq-provider': '0.19.1', 'qiskit-aqua': None, 'qiskit': '0.36.1', 'qiskit-nature': None, 'qiskit-finance': None, 'qiskit-optimization': None, 'qiskit-machine-learning': None}"
      ]
     },
     "execution_count": 4,
     "metadata": {},
     "output_type": "execute_result"
    }
   ],
   "source": [
    "qiskit.__qiskit_version__"
   ]
  },
  {
   "cell_type": "code",
   "execution_count": 11,
   "metadata": {},
   "outputs": [
    {
     "name": "stderr",
     "output_type": "stream",
     "text": [
      "C:\\Users\\Dzaky Faihalariq Pir\\AppData\\Local\\Programs\\Python\\Python37\\lib\\site-packages\\ipykernel_launcher.py:4: DeprecationWarning: The QuantumCircuit.u3 method is deprecated as of 0.16.0. It will be removed no earlier than 3 months after the release date. You should use QuantumCircuit.u instead, which acts identically. Alternatively, you can decompose u3 in terms of QuantumCircuit.p and QuantumCircuit.sx: u3(ϴ,φ,λ) = p(φ+π) sx p(ϴ+π) sx p(λ) (2 pulses on hardware).\n",
      "  after removing the cwd from sys.path.\n",
      "C:\\Users\\Dzaky Faihalariq Pir\\AppData\\Local\\Programs\\Python\\Python37\\lib\\site-packages\\ipykernel_launcher.py:5: DeprecationWarning: The QuantumCircuit.cu3 method is deprecated as of 0.16.0. It will be removed no earlier than 3 months after the release date. You should use the QuantumCircuit.cu method instead, where cu3(ϴ,φ,λ) = cu(ϴ,φ,λ,0).\n",
      "  \"\"\"\n"
     ]
    },
    {
     "data": {
      "text/html": [
       "<pre style=\"word-wrap: normal;white-space: pre;background: #fff0;line-height: 1.1;font-family: &quot;Courier New&quot;,Courier,monospace\">     ┌─────────────────┐             \n",
       "q_0: ┤ U3(π/2,π/2,π/2) ├──────■──────\n",
       "     └─────────────────┘┌─────┴─────┐\n",
       "q_1: ───────────────────┤ U3(π,π,π) ├\n",
       "                        └───────────┘</pre>"
      ],
      "text/plain": [
       "     ┌─────────────────┐             \n",
       "q_0: ┤ U3(π/2,π/2,π/2) ├──────■──────\n",
       "     └─────────────────┘┌─────┴─────┐\n",
       "q_1: ───────────────────┤ U3(π,π,π) ├\n",
       "                        └───────────┘"
      ]
     },
     "execution_count": 11,
     "metadata": {},
     "output_type": "execute_result"
    }
   ],
   "source": [
    "pi = np.pi\n",
    "qr = QuantumRegister(2, 'q')\n",
    "circuit_all = QuantumCircuit(qr)\n",
    "circuit_all.u3(0.5*pi,0.5*pi,0.5*pi,qr[0])\n",
    "circuit_all.cu3(pi,pi,pi,qr[0],qr[1])\n",
    "circuit_all.draw()"
   ]
  },
  {
   "cell_type": "code",
   "execution_count": 10,
   "metadata": {},
   "outputs": [
    {
     "name": "stdout",
     "output_type": "stream",
     "text": [
      "Help on TextDrawing in module qiskit.visualization.text object:\n",
      "\n",
      "class TextDrawing(builtins.object)\n",
      " |  TextDrawing(qubits, clbits, nodes, reverse_bits=False, plotbarriers=True, line_length=None, vertical_compression='high', layout=None, initial_state=True, cregbundle=False, global_phase=None, encoding=None, qregs=None, cregs=None, with_layout=False, circuit=None)\n",
      " |  \n",
      " |  The text drawing\n",
      " |  \n",
      " |  Methods defined here:\n",
      " |  \n",
      " |  __init__(self, qubits, clbits, nodes, reverse_bits=False, plotbarriers=True, line_length=None, vertical_compression='high', layout=None, initial_state=True, cregbundle=False, global_phase=None, encoding=None, qregs=None, cregs=None, with_layout=False, circuit=None)\n",
      " |      Initialize self.  See help(type(self)) for accurate signature.\n",
      " |  \n",
      " |  __repr__(self)\n",
      " |      Return repr(self).\n",
      " |  \n",
      " |  __str__(self)\n",
      " |      Return str(self).\n",
      " |  \n",
      " |  build_layers(self)\n",
      " |      Constructs layers.\n",
      " |      Returns:\n",
      " |          list: List of DrawElements.\n",
      " |      Raises:\n",
      " |          VisualizationError: When the drawing is, for some reason, impossible to be drawn.\n",
      " |  \n",
      " |  draw_wires(self, wires)\n",
      " |      Given a list of wires, creates a list of lines with the text drawing.\n",
      " |      \n",
      " |      Args:\n",
      " |          wires (list): A list of wires with nodes.\n",
      " |      Returns:\n",
      " |          list: A list of lines with the text drawing.\n",
      " |  \n",
      " |  dump(self, filename, encoding=None)\n",
      " |      Dumps the ascii art in the file.\n",
      " |      \n",
      " |      Args:\n",
      " |          filename (str): File to dump the ascii art.\n",
      " |          encoding (str): Optional. Force encoding, instead of self.encoding.\n",
      " |  \n",
      " |  lines(self, line_length=None)\n",
      " |      Generates a list with lines. These lines form the text drawing.\n",
      " |      \n",
      " |      Args:\n",
      " |          line_length (int): Optional. Breaks the circuit drawing to this length. This is\n",
      " |                             useful when the drawing does not fit in the console. If\n",
      " |                             None (default), it will try to guess the console width using\n",
      " |                             shutil.get_terminal_size(). If you don't want pagination\n",
      " |                             at all, set line_length=-1.\n",
      " |      \n",
      " |      Returns:\n",
      " |          list: A list of lines with the text drawing.\n",
      " |  \n",
      " |  should_compress(self, top_line, bot_line)\n",
      " |      Decides if the top_line and bot_line should be merged,\n",
      " |      based on `self.vertical_compression`.\n",
      " |  \n",
      " |  single_string(self)\n",
      " |      Creates a long string with the ascii art.\n",
      " |      Returns:\n",
      " |          str: The lines joined by a newline (``\\n``)\n",
      " |  \n",
      " |  wire_names(self, with_initial_state=False)\n",
      " |      Returns a list of names for each wire.\n",
      " |      \n",
      " |      Args:\n",
      " |          with_initial_state (bool): Optional (Default: False). If true, adds\n",
      " |              the initial value to the name.\n",
      " |      \n",
      " |      Returns:\n",
      " |          List: The list of wire names.\n",
      " |  \n",
      " |  ----------------------------------------------------------------------\n",
      " |  Static methods defined here:\n",
      " |  \n",
      " |  controlled_wires(node, layer)\n",
      " |      Analyzes the node in the layer and checks if the controlled arguments are in\n",
      " |      the box or out of the box.\n",
      " |      \n",
      " |      Args:\n",
      " |          node (DAGNode): node to analyse\n",
      " |          layer (Layer): The layer in which the node is inserted.\n",
      " |      \n",
      " |      Returns:\n",
      " |          Tuple(list, list, list):\n",
      " |            - tuple: controlled arguments on top of the \"node box\", and its status\n",
      " |            - tuple: controlled arguments on bottom of the \"node box\", and its status\n",
      " |            - tuple: controlled arguments in the \"node box\", and its status\n",
      " |            - the rest of the arguments\n",
      " |  \n",
      " |  merge_lines(top, bot, icod='top')\n",
      " |      Merges two lines (top and bot) in a way that the overlapping makes sense.\n",
      " |      \n",
      " |      Args:\n",
      " |          top (str): the top line\n",
      " |          bot (str): the bottom line\n",
      " |          icod (top or bot): in case of doubt, which line should have priority? Default: \"top\".\n",
      " |      Returns:\n",
      " |          str: The merge of both lines.\n",
      " |  \n",
      " |  normalize_width(layer)\n",
      " |      When the elements of the layer have different widths, sets the width to the max elements.\n",
      " |      \n",
      " |      Args:\n",
      " |          layer (list): A list of elements.\n",
      " |  \n",
      " |  special_label(node)\n",
      " |      Some instructions have special labels\n",
      " |  \n",
      " |  ----------------------------------------------------------------------\n",
      " |  Data descriptors defined here:\n",
      " |  \n",
      " |  __dict__\n",
      " |      dictionary for instance variables (if defined)\n",
      " |  \n",
      " |  __weakref__\n",
      " |      list of weak references to the object (if defined)\n",
      "\n"
     ]
    }
   ],
   "source": [
    "help(circuit_all.draw())"
   ]
  },
  {
   "cell_type": "code",
   "execution_count": null,
   "metadata": {},
   "outputs": [],
   "source": []
  }
 ],
 "metadata": {
  "interpreter": {
   "hash": "88a0f748d48c50b547f74cc3e839e259b6b081af8ebf11db7c6ba7745374eae5"
  },
  "kernelspec": {
   "display_name": "Python 3.7.0 64-bit",
   "language": "python",
   "name": "python3"
  },
  "language_info": {
   "codemirror_mode": {
    "name": "ipython",
    "version": 3
   },
   "file_extension": ".py",
   "mimetype": "text/x-python",
   "name": "python",
   "nbconvert_exporter": "python",
   "pygments_lexer": "ipython3",
   "version": "3.7.0"
  },
  "orig_nbformat": 4
 },
 "nbformat": 4,
 "nbformat_minor": 2
}
